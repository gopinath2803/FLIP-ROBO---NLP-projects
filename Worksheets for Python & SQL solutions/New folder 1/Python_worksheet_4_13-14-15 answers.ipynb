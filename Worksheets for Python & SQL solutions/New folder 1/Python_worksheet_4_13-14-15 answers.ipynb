{
 "cells": [
  {
   "cell_type": "markdown",
   "metadata": {},
   "source": [
    "# 13. How will you remove all the leading and trailing whitespaces in a string in python? Give one example?"
   ]
  },
  {
   "cell_type": "code",
   "execution_count": 4,
   "metadata": {},
   "outputs": [
    {
     "name": "stdout",
     "output_type": "stream",
     "text": [
      "String ='  abc  '\n",
      "After Removing Leading Whitespaces String ='abc  '\n",
      "After Removing Trailing Whitespaces String ='  abc'\n",
      "After Trimming Whitespaces String ='abc'\n"
     ]
    }
   ],
   "source": [
    "s1 = '  abc  '\n",
    "\n",
    "print(f'String =\\'{s1}\\'')\n",
    "\n",
    "print(f'After Removing Leading Whitespaces String =\\'{s1.lstrip()}\\'')\n",
    "\n",
    "print(f'After Removing Trailing Whitespaces String =\\'{s1.rstrip()}\\'')\n",
    "\n",
    "print(f'After Trimming Whitespaces String =\\'{s1.strip()}\\'')"
   ]
  },
  {
   "cell_type": "markdown",
   "metadata": {},
   "source": [
    "\n",
    "# 14) Write a python program to represent a user entered number in expanded form. For eg: user_input = 2345 Output = (2x10^3) + (3x10^2) + (4x10^1) + (5x10^0)"
   ]
  },
  {
   "cell_type": "code",
   "execution_count": 1,
   "metadata": {},
   "outputs": [],
   "source": [
    "def expand(num):\n",
    "    n = str(num) # convert number to string\n",
    "    output = []\n",
    "    for i, digit in enumerate(n):\n",
    "         output.append(\"(\" + digit + \"x10^\" + str(len(n)-i-1) + \")\")\n",
    "    return \" + \".join(output)"
   ]
  },
  {
   "cell_type": "code",
   "execution_count": 2,
   "metadata": {},
   "outputs": [
    {
     "name": "stdout",
     "output_type": "stream",
     "text": [
      "Enter a number: 5\n"
     ]
    },
    {
     "data": {
      "text/plain": [
       "'(5x10^0)'"
      ]
     },
     "execution_count": 2,
     "metadata": {},
     "output_type": "execute_result"
    }
   ],
   "source": [
    "n=int(input(\"Enter a number: \"))\n",
    "expand(n)"
   ]
  },
  {
   "cell_type": "markdown",
   "metadata": {},
   "source": [
    "# 15) Write a python program to determine whether the number entered by the user is an Armstrong number or not?"
   ]
  },
  {
   "cell_type": "code",
   "execution_count": 3,
   "metadata": {},
   "outputs": [
    {
     "name": "stdout",
     "output_type": "stream",
     "text": [
      "Enter a number: 5\n",
      "5 is not an Armstrong number\n"
     ]
    }
   ],
   "source": [
    "num = int(input(\"Enter a number: \"))  \n",
    "sum = 0  \n",
    "temp = num  \n",
    "  \n",
    "while temp > 0:  \n",
    "   digit = temp % 10  \n",
    "   sum += digit ** 3  \n",
    "   temp //= 10  \n",
    "  \n",
    "if num == sum:  \n",
    "   print(num,\"is an Armstrong number\")  \n",
    "else:  \n",
    "   print(num,\"is not an Armstrong number\") "
   ]
  }
 ],
 "metadata": {
  "kernelspec": {
   "display_name": "Python 3",
   "language": "python",
   "name": "python3"
  },
  "language_info": {
   "codemirror_mode": {
    "name": "ipython",
    "version": 3
   },
   "file_extension": ".py",
   "mimetype": "text/x-python",
   "name": "python",
   "nbconvert_exporter": "python",
   "pygments_lexer": "ipython3",
   "version": "3.7.4"
  }
 },
 "nbformat": 4,
 "nbformat_minor": 2
}
