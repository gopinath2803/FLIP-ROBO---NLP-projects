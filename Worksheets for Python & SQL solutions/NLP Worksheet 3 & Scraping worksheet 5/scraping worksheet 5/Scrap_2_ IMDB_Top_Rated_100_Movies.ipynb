{
 "cells": [
  {
   "cell_type": "code",
   "execution_count": 1,
   "metadata": {},
   "outputs": [],
   "source": [
    "import selenium\n",
    "import pandas as pd\n",
    "from selenium import webdriver\n",
    "from selenium.webdriver.support import expected_conditions\n",
    "from selenium.webdriver.support.ui import WebDriverWait\n",
    "from selenium.webdriver.support import expected_conditions as EC\n",
    "from selenium.webdriver.common.by import By\n",
    "import requests\n",
    "import os"
   ]
  },
  {
   "cell_type": "code",
   "execution_count": 2,
   "metadata": {},
   "outputs": [],
   "source": [
    "driver=webdriver.Chrome('D:\\Desktop4\\DataFiles\\Web_scaping\\chromedriver.exe')  "
   ]
  },
  {
   "cell_type": "code",
   "execution_count": 4,
   "metadata": {},
   "outputs": [],
   "source": [
    "import pandas as pd\n",
    "df=pd.DataFrame(movies_data)"
   ]
  },
  {
   "cell_type": "code",
   "execution_count": 3,
   "metadata": {},
   "outputs": [
    {
     "name": "stdout",
     "output_type": "stream",
     "text": [
      "Moving to the next page\n"
     ]
    }
   ],
   "source": [
    "http_address=\"https://www.imdb.com/chart/top/?ref_=nv_mv_250\"\n",
    "\n",
    "movies_data = {}\n",
    "\n",
    "#news_data['article_url']=[]\n",
    "#product_data['article_body_full']=[]\n",
    "\n",
    "movies_data['title']=[]\n",
    "movies_data['rating']=[]\n",
    "movies_data['Director'] = []\n",
    "movies_data['Writers'] = []\n",
    "movies_data['Stars'] = []\n",
    "#movies_data['body_text']=[]\n",
    "\n",
    "#for page in range(6,8):\n",
    "driver.get(http_address)      \n",
    "article_url = driver.find_elements_by_xpath(\"//tbody[@class='lister-list']//td[@class='titleColumn']//a\")       \n",
    "urls=[]  \n",
    "for i in article_url:\n",
    "        urls.append(i.get_attribute('href'))\n",
    "for i in urls[0:101]:\n",
    "        driver.get(i)\n",
    "        movies_data['title'].append(driver.find_element_by_xpath(\"//div[@class='title_wrapper']//h1\").text)\n",
    "        movies_data['rating'].append(driver.find_element_by_xpath(\"//div[@class='ratingValue']//span\").text)\n",
    "        article_url = driver.find_elements_by_xpath(\"//tbody[@class='lister-list']//td[@class='titleColumn']//a\") \n",
    "        \n",
    "print(\"Moving to the next page\") "
   ]
  },
  {
   "cell_type": "code",
   "execution_count": 5,
   "metadata": {},
   "outputs": [
    {
     "data": {
      "text/html": [
       "<div>\n",
       "<style scoped>\n",
       "    .dataframe tbody tr th:only-of-type {\n",
       "        vertical-align: middle;\n",
       "    }\n",
       "\n",
       "    .dataframe tbody tr th {\n",
       "        vertical-align: top;\n",
       "    }\n",
       "\n",
       "    .dataframe thead th {\n",
       "        text-align: right;\n",
       "    }\n",
       "</style>\n",
       "<table border=\"1\" class=\"dataframe\">\n",
       "  <thead>\n",
       "    <tr style=\"text-align: right;\">\n",
       "      <th></th>\n",
       "      <th>title</th>\n",
       "      <th>rating</th>\n",
       "    </tr>\n",
       "  </thead>\n",
       "  <tbody>\n",
       "    <tr>\n",
       "      <th>0</th>\n",
       "      <td>The Shawshank Redemption (1994)</td>\n",
       "      <td>The Shawshank Redemption (1994)</td>\n",
       "    </tr>\n",
       "    <tr>\n",
       "      <th>1</th>\n",
       "      <td>The Godfather (1972)</td>\n",
       "      <td>The Godfather (1972)</td>\n",
       "    </tr>\n",
       "    <tr>\n",
       "      <th>2</th>\n",
       "      <td>The Godfather: Part II (1974)</td>\n",
       "      <td>The Godfather: Part II (1974)</td>\n",
       "    </tr>\n",
       "    <tr>\n",
       "      <th>3</th>\n",
       "      <td>The Dark Knight (2008)</td>\n",
       "      <td>The Dark Knight (2008)</td>\n",
       "    </tr>\n",
       "    <tr>\n",
       "      <th>4</th>\n",
       "      <td>12 Angry Men (1957)</td>\n",
       "      <td>12 Angry Men (1957)</td>\n",
       "    </tr>\n",
       "    <tr>\n",
       "      <th>...</th>\n",
       "      <td>...</td>\n",
       "      <td>...</td>\n",
       "    </tr>\n",
       "    <tr>\n",
       "      <th>245</th>\n",
       "      <td>The Terminator (1984)</td>\n",
       "      <td>The Terminator (1984)</td>\n",
       "    </tr>\n",
       "    <tr>\n",
       "      <th>246</th>\n",
       "      <td>Aladdin (1992)</td>\n",
       "      <td>Aladdin (1992)</td>\n",
       "    </tr>\n",
       "    <tr>\n",
       "      <th>247</th>\n",
       "      <td>Tangerines (2013)</td>\n",
       "      <td>Tangerines (2013)</td>\n",
       "    </tr>\n",
       "    <tr>\n",
       "      <th>248</th>\n",
       "      <td>A Silent Voice: The Movie (2016)</td>\n",
       "      <td>A Silent Voice: The Movie (2016)</td>\n",
       "    </tr>\n",
       "    <tr>\n",
       "      <th>249</th>\n",
       "      <td>Winter Sleep (2014)</td>\n",
       "      <td>Winter Sleep (2014)</td>\n",
       "    </tr>\n",
       "  </tbody>\n",
       "</table>\n",
       "<p>250 rows × 2 columns</p>\n",
       "</div>"
      ],
      "text/plain": [
       "                                title                            rating\n",
       "0     The Shawshank Redemption (1994)   The Shawshank Redemption (1994)\n",
       "1                The Godfather (1972)              The Godfather (1972)\n",
       "2       The Godfather: Part II (1974)     The Godfather: Part II (1974)\n",
       "3              The Dark Knight (2008)            The Dark Knight (2008)\n",
       "4                 12 Angry Men (1957)               12 Angry Men (1957)\n",
       "..                                ...                               ...\n",
       "245             The Terminator (1984)             The Terminator (1984)\n",
       "246                    Aladdin (1992)                    Aladdin (1992)\n",
       "247                 Tangerines (2013)                 Tangerines (2013)\n",
       "248  A Silent Voice: The Movie (2016)  A Silent Voice: The Movie (2016)\n",
       "249               Winter Sleep (2014)               Winter Sleep (2014)\n",
       "\n",
       "[250 rows x 2 columns]"
      ]
     },
     "execution_count": 5,
     "metadata": {},
     "output_type": "execute_result"
    }
   ],
   "source": [
    "df"
   ]
  },
  {
   "cell_type": "code",
   "execution_count": 7,
   "metadata": {},
   "outputs": [
    {
     "name": "stdout",
     "output_type": "stream",
     "text": [
      "250\n"
     ]
    }
   ],
   "source": [
    "print(len(article_url))"
   ]
  },
  {
   "cell_type": "code",
   "execution_count": null,
   "metadata": {},
   "outputs": [],
   "source": []
  },
  {
   "cell_type": "code",
   "execution_count": null,
   "metadata": {},
   "outputs": [],
   "source": []
  }
 ],
 "metadata": {
  "kernelspec": {
   "display_name": "Python 3",
   "language": "python",
   "name": "python3"
  },
  "language_info": {
   "codemirror_mode": {
    "name": "ipython",
    "version": 3
   },
   "file_extension": ".py",
   "mimetype": "text/x-python",
   "name": "python",
   "nbconvert_exporter": "python",
   "pygments_lexer": "ipython3",
   "version": "3.6.5"
  }
 },
 "nbformat": 4,
 "nbformat_minor": 4
}
