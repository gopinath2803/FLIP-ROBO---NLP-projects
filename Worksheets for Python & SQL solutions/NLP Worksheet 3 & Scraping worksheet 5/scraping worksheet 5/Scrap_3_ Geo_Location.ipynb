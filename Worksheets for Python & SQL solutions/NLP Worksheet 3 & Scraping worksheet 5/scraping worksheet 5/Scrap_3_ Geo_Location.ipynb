{
 "cells": [
  {
   "cell_type": "code",
   "execution_count": 18,
   "metadata": {},
   "outputs": [],
   "source": [
    "import selenium\n",
    "from selenium import webdriver\n",
    "driver=webdriver.Chrome('D:\\Desktop4\\DataFiles\\Web_scaping\\chromedriver.exe')\n",
    "driver.get(\"https://www.google.co.in/maps/\")\n",
    "que =driver.find_element_by_xpath(\"//input[@autofocus='autofocus']\")\n",
    "que.send_keys(\"Delhi\")\n",
    "driver.find_element_by_xpath(\"//div[@class='searchbox-searchbutton-container']//button\").click()"
   ]
  },
  {
   "cell_type": "code",
   "execution_count": 15,
   "metadata": {},
   "outputs": [],
   "source": []
  }
 ],
 "metadata": {
  "kernelspec": {
   "display_name": "Python 3",
   "language": "python",
   "name": "python3"
  },
  "language_info": {
   "codemirror_mode": {
    "name": "ipython",
    "version": 3
   },
   "file_extension": ".py",
   "mimetype": "text/x-python",
   "name": "python",
   "nbconvert_exporter": "python",
   "pygments_lexer": "ipython3",
   "version": "3.6.5"
  }
 },
 "nbformat": 4,
 "nbformat_minor": 4
}
