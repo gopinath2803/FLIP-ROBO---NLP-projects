{
 "cells": [
  {
   "cell_type": "code",
   "execution_count": 1,
   "metadata": {},
   "outputs": [],
   "source": [
    "import selenium\n",
    "import pandas as pd\n",
    "from selenium import webdriver\n",
    "driver=webdriver.Chrome('D:\\Desktop4\\DataFiles\\Web_scaping\\chromedriver.exe')"
   ]
  },
  {
   "cell_type": "code",
   "execution_count": 2,
   "metadata": {},
   "outputs": [
    {
     "name": "stdout",
     "output_type": "stream",
     "text": [
      "\n",
      "From today's featured article\n",
      "Did you know ...\n",
      "In the news\n",
      "On this day\n",
      "Today's featured picture\n",
      "Other areas of Wikipedia\n",
      "Wikipedia's sister projects\n",
      "Wikipedia languages\n",
      "\n",
      "\n",
      "\n",
      "\n",
      "\n",
      "\n",
      "Search\n",
      "\n",
      "Contribute\n",
      "Tools\n",
      "Print/export\n",
      "In other projects\n",
      "Languages\n"
     ]
    }
   ],
   "source": [
    "http_address=\"https://en.wikipedia.org/wiki/Main_Page\"\n",
    "driver.get(http_address)\n",
    "# Find all of the paragraphs\n",
    "head_list = ['h1','h2','h3']\n",
    "for i in range (len(head_list)):\n",
    "    headers = driver.find_elements_by_tag_name(head_list[i])\n",
    "    for header in headers:\n",
    "        print(header.text)"
   ]
  },
  {
   "cell_type": "code",
   "execution_count": null,
   "metadata": {},
   "outputs": [],
   "source": []
  }
 ],
 "metadata": {
  "kernelspec": {
   "display_name": "Python 3",
   "language": "python",
   "name": "python3"
  },
  "language_info": {
   "codemirror_mode": {
    "name": "ipython",
    "version": 3
   },
   "file_extension": ".py",
   "mimetype": "text/x-python",
   "name": "python",
   "nbconvert_exporter": "python",
   "pygments_lexer": "ipython3",
   "version": "3.6.5"
  }
 },
 "nbformat": 4,
 "nbformat_minor": 4
}
