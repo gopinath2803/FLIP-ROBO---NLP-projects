{
 "cells": [
  {
   "cell_type": "markdown",
   "metadata": {},
   "source": [
    "# Q14 and Q15 are programming questions. Answer them in Jupyter Notebook"
   ]
  },
  {
   "cell_type": "markdown",
   "metadata": {},
   "source": [
    "14. Write a python program to solve a quadratic equation of the form 𝑎𝑥\n",
    "2 + 𝑏𝑥 + 𝑐 = 0. Where a, b and c are to be taken by user input. Handle the erroneous input, such as ‘a’ should not be equal to 0."
   ]
  },
  {
   "cell_type": "code",
   "execution_count": 1,
   "metadata": {},
   "outputs": [
    {
     "name": "stdout",
     "output_type": "stream",
     "text": [
      "Enter a: 5\n",
      "Enter b: 6\n",
      "Enter c: 7\n",
      "The solution are (-0.6-1.0198039027185568j) and (-0.6+1.0198039027185568j)\n"
     ]
    }
   ],
   "source": [
    "import cmath  \n",
    "a = float(input('Enter a: '))  \n",
    "b = float(input('Enter b: '))  \n",
    "c = float(input('Enter c: '))  \n",
    "  \n",
    "# calculate the discriminant  \n",
    "d = (b**2) - (4*a*c)  \n",
    "  \n",
    "# find two solutions  \n",
    "sol1 = (-b-cmath.sqrt(d))/(2*a)  \n",
    "sol2 = (-b+cmath.sqrt(d))/(2*a)  \n",
    "print('The solution are {0} and {1}'.format(sol1,sol2)) "
   ]
  },
  {
   "cell_type": "markdown",
   "metadata": {},
   "source": [
    "15. Write a python program to find the sum of first ‘n’ natural numbers without using any loop. Ask user to input\n",
    "the value of ‘n’."
   ]
  },
  {
   "cell_type": "code",
   "execution_count": 2,
   "metadata": {},
   "outputs": [
    {
     "name": "stdout",
     "output_type": "stream",
     "text": [
      " Enter n: 20\n",
      "Sum of the first  20.0 natural numbers using formula is:  210.0\n"
     ]
    }
   ],
   "source": [
    "n = float(input(' Enter n: '))\n",
    "sum = n * (n+1) / 2\n",
    "average  = ( n * (n+1) / 2) / n\n",
    "print(\"Sum of the first \", n, \"natural numbers using formula is: \", sum )"
   ]
  },
  {
   "cell_type": "code",
   "execution_count": null,
   "metadata": {},
   "outputs": [],
   "source": []
  }
 ],
 "metadata": {
  "kernelspec": {
   "display_name": "Python 3",
   "language": "python",
   "name": "python3"
  },
  "language_info": {
   "codemirror_mode": {
    "name": "ipython",
    "version": 3
   },
   "file_extension": ".py",
   "mimetype": "text/x-python",
   "name": "python",
   "nbconvert_exporter": "python",
   "pygments_lexer": "ipython3",
   "version": "3.7.4"
  }
 },
 "nbformat": 4,
 "nbformat_minor": 2
}
