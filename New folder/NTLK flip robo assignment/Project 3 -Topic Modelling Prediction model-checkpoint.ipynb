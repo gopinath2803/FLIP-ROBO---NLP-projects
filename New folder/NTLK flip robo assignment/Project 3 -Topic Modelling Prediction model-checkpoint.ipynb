{
 "cells": [
  {
   "cell_type": "markdown",
   "metadata": {},
   "source": [
    "# Importing Libraries for Topic Modeling"
   ]
  },
  {
   "cell_type": "code",
   "execution_count": 1,
   "metadata": {},
   "outputs": [],
   "source": [
    "import numpy as np\n",
    "import gensim\n",
    "import pandas as pd\n",
    "from gensim.utils import simple_preprocess\n",
    "from gensim.parsing.preprocessing import STOPWORDS\n",
    "from nltk.stem import WordNetLemmatizer, SnowballStemmer\n",
    "# download data set from sklearn\n",
    "from sklearn.datasets import fetch_20newsgroups\n",
    "# To ignore the warnings\n",
    "import warnings\n",
    "warnings.filterwarnings('ignore')"
   ]
  },
  {
   "cell_type": "markdown",
   "metadata": {},
   "source": [
    "# let's train and test data from fetch_20newsgroup"
   ]
  },
  {
   "cell_type": "code",
   "execution_count": 2,
   "metadata": {},
   "outputs": [],
   "source": [
    "ng_train = fetch_20newsgroups(subset = 'train',shuffle=True)\n",
    "ng_test   = fetch_20newsgroups(subset = 'test',shuffle=True)"
   ]
  },
  {
   "cell_type": "code",
   "execution_count": 3,
   "metadata": {},
   "outputs": [
    {
     "name": "stdout",
     "output_type": "stream",
     "text": [
      "['alt.atheism', 'comp.graphics', 'comp.os.ms-windows.misc', 'comp.sys.ibm.pc.hardware', 'comp.sys.mac.hardware', 'comp.windows.x', 'misc.forsale', 'rec.autos', 'rec.motorcycles', 'rec.sport.baseball', 'rec.sport.hockey', 'sci.crypt', 'sci.electronics', 'sci.med', 'sci.space', 'soc.religion.christian', 'talk.politics.guns', 'talk.politics.mideast', 'talk.politics.misc', 'talk.religion.misc']\n"
     ]
    }
   ],
   "source": [
    "print(list(ng_train.target_names))"
   ]
  },
  {
   "cell_type": "markdown",
   "metadata": {},
   "source": [
    "# let's check sample news data"
   ]
  },
  {
   "cell_type": "code",
   "execution_count": 4,
   "metadata": {},
   "outputs": [
    {
     "data": {
      "text/plain": [
       "[\"From: lerxst@wam.umd.edu (where's my thing)\\nSubject: WHAT car is this!?\\nNntp-Posting-Host: rac3.wam.umd.edu\\nOrganization: University of Maryland, College Park\\nLines: 15\\n\\n I was wondering if anyone out there could enlighten me on this car I saw\\nthe other day. It was a 2-door sports car, looked to be from the late 60s/\\nearly 70s. It was called a Bricklin. The doors were really small. In addition,\\nthe front bumper was separate from the rest of the body. This is \\nall I know. If anyone can tellme a model name, engine specs, years\\nof production, where this car is made, history, or whatever info you\\nhave on this funky looking car, please e-mail.\\n\\nThanks,\\n- IL\\n   ---- brought to you by your neighborhood Lerxst ----\\n\\n\\n\\n\\n\",\n",
       " \"From: guykuo@carson.u.washington.edu (Guy Kuo)\\nSubject: SI Clock Poll - Final Call\\nSummary: Final call for SI clock reports\\nKeywords: SI,acceleration,clock,upgrade\\nArticle-I.D.: shelley.1qvfo9INNc3s\\nOrganization: University of Washington\\nLines: 11\\nNNTP-Posting-Host: carson.u.washington.edu\\n\\nA fair number of brave souls who upgraded their SI clock oscillator have\\nshared their experiences for this poll. Please send a brief message detailing\\nyour experiences with the procedure. Top speed attained, CPU rated speed,\\nadd on cards and adapters, heat sinks, hour of usage per day, floppy disk\\nfunctionality with 800 and 1.4 m floppies are especially requested.\\n\\nI will be summarizing in the next two days, so please add to the network\\nknowledge base if you have done the clock upgrade and haven't answered this\\npoll. Thanks.\\n\\nGuy Kuo <guykuo@u.washington.edu>\\n\"]"
      ]
     },
     "execution_count": 4,
     "metadata": {},
     "output_type": "execute_result"
    }
   ],
   "source": [
    "#sample news\n",
    "ng_train.data[:2]"
   ]
  },
  {
   "cell_type": "markdown",
   "metadata": {},
   "source": [
    "# shape of the trained data"
   ]
  },
  {
   "cell_type": "code",
   "execution_count": 5,
   "metadata": {},
   "outputs": [
    {
     "name": "stdout",
     "output_type": "stream",
     "text": [
      "(11314,) (11314,)\n"
     ]
    }
   ],
   "source": [
    "print(ng_train.filenames.shape,ng_train.target.shape)"
   ]
  },
  {
   "cell_type": "code",
   "execution_count": 6,
   "metadata": {},
   "outputs": [],
   "source": [
    "np.random.seed(400)"
   ]
  },
  {
   "cell_type": "code",
   "execution_count": 7,
   "metadata": {},
   "outputs": [
    {
     "data": {
      "text/plain": [
       "'day'"
      ]
     },
     "execution_count": 7,
     "metadata": {},
     "output_type": "execute_result"
    }
   ],
   "source": [
    "#testing the lemmatize statment. It should convert past or future tense into present tense\n",
    "WordNetLemmatizer().lemmatize('days')"
   ]
  },
  {
   "cell_type": "code",
   "execution_count": 8,
   "metadata": {},
   "outputs": [
    {
     "data": {
      "text/html": [
       "<div>\n",
       "<style scoped>\n",
       "    .dataframe tbody tr th:only-of-type {\n",
       "        vertical-align: middle;\n",
       "    }\n",
       "\n",
       "    .dataframe tbody tr th {\n",
       "        vertical-align: top;\n",
       "    }\n",
       "\n",
       "    .dataframe thead th {\n",
       "        text-align: right;\n",
       "    }\n",
       "</style>\n",
       "<table border=\"1\" class=\"dataframe\">\n",
       "  <thead>\n",
       "    <tr style=\"text-align: right;\">\n",
       "      <th></th>\n",
       "      <th>Original Words</th>\n",
       "      <th>Lemma</th>\n",
       "    </tr>\n",
       "  </thead>\n",
       "  <tbody>\n",
       "    <tr>\n",
       "      <th>0</th>\n",
       "      <td>caresses</td>\n",
       "      <td>caress</td>\n",
       "    </tr>\n",
       "    <tr>\n",
       "      <th>1</th>\n",
       "      <td>flies</td>\n",
       "      <td>fly</td>\n",
       "    </tr>\n",
       "    <tr>\n",
       "      <th>2</th>\n",
       "      <td>dies</td>\n",
       "      <td>die</td>\n",
       "    </tr>\n",
       "    <tr>\n",
       "      <th>3</th>\n",
       "      <td>mules</td>\n",
       "      <td>mules</td>\n",
       "    </tr>\n",
       "    <tr>\n",
       "      <th>4</th>\n",
       "      <td>denied</td>\n",
       "      <td>deny</td>\n",
       "    </tr>\n",
       "    <tr>\n",
       "      <th>5</th>\n",
       "      <td>died</td>\n",
       "      <td>die</td>\n",
       "    </tr>\n",
       "    <tr>\n",
       "      <th>6</th>\n",
       "      <td>agreed</td>\n",
       "      <td>agree</td>\n",
       "    </tr>\n",
       "    <tr>\n",
       "      <th>7</th>\n",
       "      <td>owned</td>\n",
       "      <td>own</td>\n",
       "    </tr>\n",
       "    <tr>\n",
       "      <th>8</th>\n",
       "      <td>humbled</td>\n",
       "      <td>humble</td>\n",
       "    </tr>\n",
       "    <tr>\n",
       "      <th>9</th>\n",
       "      <td>sized</td>\n",
       "      <td>size</td>\n",
       "    </tr>\n",
       "    <tr>\n",
       "      <th>10</th>\n",
       "      <td>meetings</td>\n",
       "      <td>meet</td>\n",
       "    </tr>\n",
       "    <tr>\n",
       "      <th>11</th>\n",
       "      <td>stating</td>\n",
       "      <td>state</td>\n",
       "    </tr>\n",
       "    <tr>\n",
       "      <th>12</th>\n",
       "      <td>siezing</td>\n",
       "      <td>siezing</td>\n",
       "    </tr>\n",
       "    <tr>\n",
       "      <th>13</th>\n",
       "      <td>itemization</td>\n",
       "      <td>itemization</td>\n",
       "    </tr>\n",
       "    <tr>\n",
       "      <th>14</th>\n",
       "      <td>sensational</td>\n",
       "      <td>sensational</td>\n",
       "    </tr>\n",
       "    <tr>\n",
       "      <th>15</th>\n",
       "      <td>traditional</td>\n",
       "      <td>traditional</td>\n",
       "    </tr>\n",
       "    <tr>\n",
       "      <th>16</th>\n",
       "      <td>references</td>\n",
       "      <td>reference</td>\n",
       "    </tr>\n",
       "    <tr>\n",
       "      <th>17</th>\n",
       "      <td>colonizer</td>\n",
       "      <td>colonizer</td>\n",
       "    </tr>\n",
       "    <tr>\n",
       "      <th>18</th>\n",
       "      <td>plotted</td>\n",
       "      <td>plot</td>\n",
       "    </tr>\n",
       "  </tbody>\n",
       "</table>\n",
       "</div>"
      ],
      "text/plain": [
       "   Original Words        Lemma\n",
       "0        caresses       caress\n",
       "1           flies          fly\n",
       "2            dies          die\n",
       "3           mules        mules\n",
       "4          denied         deny\n",
       "5            died          die\n",
       "6          agreed        agree\n",
       "7           owned          own\n",
       "8         humbled       humble\n",
       "9           sized         size\n",
       "10       meetings         meet\n",
       "11        stating        state\n",
       "12        siezing      siezing\n",
       "13    itemization  itemization\n",
       "14    sensational  sensational\n",
       "15    traditional  traditional\n",
       "16     references    reference\n",
       "17      colonizer    colonizer\n",
       "18        plotted         plot"
      ]
     },
     "execution_count": 8,
     "metadata": {},
     "output_type": "execute_result"
    }
   ],
   "source": [
    "#testing the stemming part before preprocessing. This should be changing any plural into singular word\n",
    "stemmer = SnowballStemmer(\"english\")\n",
    "original_words=['caresses', 'flies', 'dies', 'mules', 'denied','died', 'agreed', 'owned', \n",
    "           'humbled', 'sized','meetings', 'stating', 'siezing', 'itemization','sensational', \n",
    "           'traditional', 'references', 'colonizer','plotted']\n",
    "\n",
    "singles= [WordNetLemmatizer().lemmatize(plural,pos='v') for plural in original_words]\n",
    "\n",
    "pd.DataFrame(data={'Original Words':original_words, 'Lemma':singles})"
   ]
  },
  {
   "cell_type": "code",
   "execution_count": 9,
   "metadata": {},
   "outputs": [],
   "source": [
    "def lemmatize_stemming(text):\n",
    "    return stemmer.stem(WordNetLemmatizer().lemmatize(text,pos='v'))\n",
    "\n",
    "#Tokenize and Lemmatize\n",
    "def preprocess(text):\n",
    "    result=[]\n",
    "    for token in gensim.utils.simple_preprocess(text):\n",
    "        if token not in gensim.parsing.preprocessing.STOPWORDS and len(token)>3:\n",
    "            result.append(lemmatize_stemming(token))\n",
    "            \n",
    "    return result"
   ]
  },
  {
   "cell_type": "code",
   "execution_count": 10,
   "metadata": {},
   "outputs": [
    {
     "name": "stdout",
     "output_type": "stream",
     "text": [
      "Original Document: \n",
      "['This', 'disk', 'has', 'failed', 'many', 'times.', 'I', 'would', 'like', 'to', 'get', 'it', 'replaced.']\n",
      "\n",
      "\n",
      "Tokenized and lemmatized document: \n",
      "['disk', 'fail', 'time', 'like', 'replac']\n"
     ]
    }
   ],
   "source": [
    "#preview a document before preprocessing\n",
    "\n",
    "#document_num = 50\n",
    "doc_sample = 'This disk has failed many times. I would like to get it replaced.'\n",
    "\n",
    "print(\"Original Document: \")\n",
    "words=[]\n",
    "for word in doc_sample.split(' '):\n",
    "    words.append(word)\n",
    "print(words)\n",
    "print(\"\\n\\nTokenized and lemmatized document: \")\n",
    "print(preprocess(doc_sample))"
   ]
  },
  {
   "cell_type": "code",
   "execution_count": 11,
   "metadata": {},
   "outputs": [],
   "source": [
    "processed_docs = []\n",
    "\n",
    "for doc in ng_train.data:\n",
    "    processed_docs.append(preprocess(doc))"
   ]
  },
  {
   "cell_type": "code",
   "execution_count": 12,
   "metadata": {},
   "outputs": [
    {
     "data": {
      "text/plain": [
       "11314"
      ]
     },
     "execution_count": 12,
     "metadata": {},
     "output_type": "execute_result"
    }
   ],
   "source": [
    "len(processed_docs)"
   ]
  },
  {
   "cell_type": "code",
   "execution_count": 13,
   "metadata": {},
   "outputs": [
    {
     "name": "stdout",
     "output_type": "stream",
     "text": [
      "[['lerxst', 'thing', 'subject', 'nntp', 'post', 'host', 'organ', 'univers', 'maryland', 'colleg', 'park', 'line', 'wonder', 'enlighten', 'door', 'sport', 'look', 'late', 'earli', 'call', 'bricklin', 'door', 'small', 'addit', 'bumper', 'separ', 'rest', 'bodi', 'know', 'tellm', 'model', 'engin', 'spec', 'year', 'product', 'histori', 'info', 'funki', 'look', 'mail', 'thank', 'bring', 'neighborhood', 'lerxst'], ['guykuo', 'carson', 'washington', 'subject', 'clock', 'poll', 'final', 'summari', 'final', 'clock', 'report', 'keyword', 'acceler', 'clock', 'upgrad', 'articl', 'shelley', 'qvfo', 'innc', 'organ', 'univers', 'washington', 'line', 'nntp', 'post', 'host', 'carson', 'washington', 'fair', 'number', 'brave', 'soul', 'upgrad', 'clock', 'oscil', 'share', 'experi', 'poll', 'send', 'brief', 'messag', 'detail', 'experi', 'procedur', 'speed', 'attain', 'rat', 'speed', 'card', 'adapt', 'heat', 'sink', 'hour', 'usag', 'floppi', 'disk', 'function', 'floppi', 'especi', 'request', 'summar', 'day', 'network', 'knowledg', 'base', 'clock', 'upgrad', 'haven', 'answer', 'poll', 'thank', 'guykuo', 'washington'], ['twilli', 'purdu', 'thoma', 'willi', 'subject', 'question', 'organ', 'purdu', 'univers', 'engin', 'network', 'distribut', 'line', 'folk', 'plus', 'final', 'give', 'ghost', 'weekend', 'start', 'life', 'sooo', 'market', 'machin', 'sooner', 'intend', 'look', 'pick', 'powerbook', 'mayb', 'bunch', 'question', 'hope', 'somebodi', 'answer', 'anybodi', 'know', 'dirt', 'round', 'powerbook', 'introduct', 'expect', 'hear', 'suppos', 'appear', 'summer', 'haven', 'hear', 'anymor', 'access', 'macleak', 'wonder', 'anybodi', 'info', 'anybodi', 'hear', 'rumor', 'price', 'drop', 'powerbook', 'line', 'like', 'one', 'go', 'recent', 'impress', 'display', 'probabl', 'swing', 'disk', 'feel', 'better', 'display', 'look', 'great', 'store', 'good', 'solicit', 'opinion', 'peopl', 'worth', 'take', 'disk', 'size', 'money', 'activ', 'display', 'realiz', 'real', 'subject', 'question', 'play', 'machin', 'store', 'breifli', 'figur', 'opinion', 'somebodi', 'actual', 'use', 'machin', 'daili', 'prove', 'help', 'hellcat', 'perform', 'thank', 'bunch', 'advanc', 'info', 'email', 'post', 'summari', 'news', 'read', 'time', 'premium', 'final', 'corner', 'willi', 'twilli', 'purdu', 'purdu', 'electr', 'engin', 'convict', 'danger', 'enemi', 'truth', 'lie', 'nietzsch'], ['jgreen', 'amber', 'green', 'subject', 'weitek', 'organ', 'harri', 'system', 'divis', 'line', 'distribut', 'world', 'nntp', 'post', 'host', 'amber', 'harri', 'newsread', 'version', 'robert', 'kyanko', 'rjck', 'uucp', 'write', 'abraxi', 'iastat', 'write', 'articl', 'abraxi', 'class', 'iastat', 'know', 'weitek', 'graphic', 'chip', 'level', 'stuff', 'go', 'look', 'pretti', 'nice', 'quadrilater', 'command', 'requir', 'point', 'weitek', 'address', 'phone', 'number', 'like', 'inform', 'chip', 'green', 'harri', 'corpor', 'jgreen', 'harri', 'system', 'divis', 'thing', 'scar', 'person', 'sens', 'humor', 'jonathan', 'winter'], ['head', 'harvard', 'jonathan', 'mcdowel', 'subject', 'shuttl', 'launch', 'question', 'organ', 'smithsonian', 'astrophys', 'observatori', 'cambridg', 'distribut', 'line', 'articl', 'owcb', 'world', 'tombak', 'world', 'baker', 'articl', 'jlwx', 'etrat', 'ttac', 'pack', 'write', 'clear', 'caution', 'warn', 'memori', 'verifi', 'unexpect', 'error', 'wonder', 'expect', 'error', 'sorri', 'dumb', 'question', 'pariti', 'error', 'memori', 'previous', 'know', 'condit', 'waiver', 'error', 'know', 'curious', 'real', 'mean', 'quot', 'understand', 'expect', 'error', 'basic', 'know', 'bug', 'warn', 'softwar', 'thing', 'check', 'right', 'valu', 'aren', 'till', 'launch', 'suchlik', 'code', 'possibl', 'introduc', 'bug', 'tell', 'crew', 'warn', 'liftoff', 'ignor', 'jonathan']]\n"
     ]
    }
   ],
   "source": [
    "print(processed_docs[:5])"
   ]
  },
  {
   "cell_type": "markdown",
   "metadata": {},
   "source": [
    "# Applying Gensim on Bag of words"
   ]
  },
  {
   "cell_type": "code",
   "execution_count": 14,
   "metadata": {},
   "outputs": [],
   "source": [
    "#bag of words on the data set\n",
    "dictionary = gensim.corpora.Dictionary(processed_docs)"
   ]
  },
  {
   "cell_type": "code",
   "execution_count": 15,
   "metadata": {},
   "outputs": [
    {
     "name": "stdout",
     "output_type": "stream",
     "text": [
      "Dictionary(61411 unique tokens: ['addit', 'bodi', 'bricklin', 'bring', 'bumper']...)\n"
     ]
    }
   ],
   "source": [
    "print (dictionary)"
   ]
  },
  {
   "cell_type": "code",
   "execution_count": 16,
   "metadata": {},
   "outputs": [
    {
     "name": "stdout",
     "output_type": "stream",
     "text": [
      "0 addit\n",
      "1 bodi\n",
      "2 bricklin\n",
      "3 bring\n",
      "4 bumper\n",
      "5 call\n",
      "6 colleg\n",
      "7 door\n",
      "8 earli\n",
      "9 engin\n",
      "10 enlighten\n",
      "11 funki\n",
      "12 histori\n",
      "13 host\n",
      "14 info\n",
      "15 know\n",
      "16 late\n",
      "17 lerxst\n",
      "18 line\n",
      "19 look\n",
      "20 mail\n"
     ]
    }
   ],
   "source": [
    "#Lets see if dictionary created succesfully\n",
    "count=0\n",
    "for k,v in dictionary.iteritems():\n",
    "    print (k, v)\n",
    "    count +=1\n",
    "    if count >20:\n",
    "        break"
   ]
  },
  {
   "cell_type": "code",
   "execution_count": 17,
   "metadata": {},
   "outputs": [],
   "source": [
    "#remove rare and repeatative words\n",
    "dictionary.filter_extremes(no_below=50,no_above=0.5,keep_n=100000)"
   ]
  },
  {
   "cell_type": "code",
   "execution_count": 18,
   "metadata": {},
   "outputs": [
    {
     "name": "stdout",
     "output_type": "stream",
     "text": [
      "Dictionary(2891 unique tokens: ['addit', 'bodi', 'bring', 'call', 'colleg']...)\n"
     ]
    }
   ],
   "source": [
    "print (dictionary)"
   ]
  },
  {
   "cell_type": "code",
   "execution_count": 19,
   "metadata": {},
   "outputs": [],
   "source": [
    "#Create the Bag-of-words model for each document i.e for each document we create a dictionary reporting how many\n",
    "#words and how many times those words appear. Save this to 'bow_corpus'\n",
    "bow_corpus = [dictionary.doc2bow(doc) for doc in processed_docs]"
   ]
  },
  {
   "cell_type": "code",
   "execution_count": 20,
   "metadata": {},
   "outputs": [
    {
     "data": {
      "text/plain": [
       "[(10, 1),\n",
       " (18, 1),\n",
       " (26, 1),\n",
       " (28, 1),\n",
       " (31, 1),\n",
       " (32, 1),\n",
       " (33, 1),\n",
       " (34, 1),\n",
       " (35, 1),\n",
       " (36, 1),\n",
       " (37, 1),\n",
       " (38, 1),\n",
       " (39, 2),\n",
       " (40, 5),\n",
       " (41, 1),\n",
       " (42, 1),\n",
       " (43, 1),\n",
       " (44, 1),\n",
       " (45, 2),\n",
       " (46, 1),\n",
       " (47, 2),\n",
       " (48, 2),\n",
       " (49, 1),\n",
       " (50, 1),\n",
       " (51, 1),\n",
       " (52, 1),\n",
       " (53, 1),\n",
       " (54, 1),\n",
       " (55, 1),\n",
       " (56, 1),\n",
       " (57, 1),\n",
       " (58, 3),\n",
       " (59, 1),\n",
       " (60, 1),\n",
       " (61, 1),\n",
       " (62, 1),\n",
       " (63, 1),\n",
       " (64, 1),\n",
       " (65, 1),\n",
       " (66, 1),\n",
       " (67, 1),\n",
       " (68, 2),\n",
       " (69, 1),\n",
       " (70, 1),\n",
       " (71, 3),\n",
       " (72, 1),\n",
       " (73, 4)]"
      ]
     },
     "execution_count": 20,
     "metadata": {},
     "output_type": "execute_result"
    }
   ],
   "source": [
    "bow_corpus[1]"
   ]
  },
  {
   "cell_type": "markdown",
   "metadata": {},
   "source": [
    "# Model Prediction"
   ]
  },
  {
   "cell_type": "code",
   "execution_count": 21,
   "metadata": {},
   "outputs": [
    {
     "name": "stdout",
     "output_type": "stream",
     "text": [
      "Word 17 (\"model\") appears 1 time.\n",
      "Word 26 (\"thank\") appears 1 time.\n",
      "Word 40 (\"clock\") appears 1 time.\n",
      "Word 53 (\"keyword\") appears 1 time.\n",
      "Word 70 (\"summari\") appears 1 time.\n",
      "Word 88 (\"distribut\") appears 1 time.\n",
      "Word 91 (\"email\") appears 1 time.\n",
      "Word 109 (\"like\") appears 1 time.\n",
      "Word 116 (\"opinion\") appears 1 time.\n",
      "Word 147 (\"worth\") appears 1 time.\n",
      "Word 163 (\"nice\") appears 1 time.\n",
      "Word 245 (\"hard\") appears 1 time.\n",
      "Word 312 (\"think\") appears 1 time.\n",
      "Word 391 (\"owner\") appears 1 time.\n",
      "Word 404 (\"bike\") appears 2 time.\n",
      "Word 405 (\"brown\") appears 1 time.\n",
      "Word 406 (\"expir\") appears 1 time.\n",
      "Word 407 (\"motor\") appears 1 time.\n",
      "Word 408 (\"paint\") appears 1 time.\n",
      "Word 409 (\"pop\") appears 1 time.\n",
      "Word 410 (\"recommend\") appears 1 time.\n",
      "Word 411 (\"richardson\") appears 2 time.\n",
      "Word 412 (\"run\") appears 1 time.\n",
      "Word 413 (\"sell\") appears 1 time.\n",
      "Word 414 (\"shop\") appears 1 time.\n",
      "Word 415 (\"stabl\") appears 1 time.\n",
      "Word 416 (\"want\") appears 1 time.\n"
     ]
    }
   ],
   "source": [
    "#preview \n",
    "document_num = 10\n",
    "bow_doc_x = bow_corpus[document_num]\n",
    "\n",
    "for i in range(len(bow_doc_x)):\n",
    "    print(\"Word {} (\\\"{}\\\") appears {} time.\".format(bow_doc_x[i][0], \n",
    "                                                     dictionary[bow_doc_x[i][0]],\n",
    "                                                     bow_doc_x[i][1]))"
   ]
  },
  {
   "cell_type": "code",
   "execution_count": 22,
   "metadata": {},
   "outputs": [],
   "source": [
    "lda_model =  gensim.models.LdaMulticore(bow_corpus, \n",
    "                                   num_topics = 10, \n",
    "                                   id2word = dictionary,                                    \n",
    "                                   passes = 10,\n",
    "                                   workers = 2)"
   ]
  },
  {
   "cell_type": "code",
   "execution_count": 23,
   "metadata": {},
   "outputs": [
    {
     "name": "stdout",
     "output_type": "stream",
     "text": [
      "Topic: 0 \n",
      "Words: 0.021*\"univers\" + 0.018*\"host\" + 0.018*\"nntp\" + 0.014*\"space\" + 0.012*\"nasa\" + 0.011*\"articl\" + 0.009*\"distribut\" + 0.009*\"thank\" + 0.007*\"know\" + 0.007*\"sale\"\n",
      "\n",
      "\n",
      "Topic: 1 \n",
      "Words: 0.023*\"articl\" + 0.014*\"scsi\" + 0.013*\"univers\" + 0.012*\"uiuc\" + 0.010*\"think\" + 0.010*\"moral\" + 0.009*\"know\" + 0.009*\"like\" + 0.008*\"nntp\" + 0.008*\"host\"\n",
      "\n",
      "\n",
      "Topic: 2 \n",
      "Words: 0.030*\"window\" + 0.022*\"file\" + 0.015*\"program\" + 0.011*\"problem\" + 0.008*\"work\" + 0.008*\"driver\" + 0.007*\"color\" + 0.007*\"display\" + 0.007*\"version\" + 0.007*\"know\"\n",
      "\n",
      "\n",
      "Topic: 3 \n",
      "Words: 0.016*\"mail\" + 0.013*\"list\" + 0.012*\"avail\" + 0.010*\"inform\" + 0.009*\"file\" + 0.009*\"includ\" + 0.009*\"user\" + 0.008*\"send\" + 0.008*\"group\" + 0.007*\"graphic\"\n",
      "\n",
      "\n",
      "Topic: 4 \n",
      "Words: 0.012*\"govern\" + 0.010*\"encrypt\" + 0.010*\"right\" + 0.009*\"state\" + 0.008*\"israel\" + 0.008*\"secur\" + 0.008*\"chip\" + 0.007*\"peopl\" + 0.007*\"isra\" + 0.007*\"clipper\"\n",
      "\n",
      "\n",
      "Topic: 5 \n",
      "Words: 0.013*\"peopl\" + 0.010*\"armenian\" + 0.009*\"say\" + 0.007*\"kill\" + 0.007*\"go\" + 0.007*\"like\" + 0.006*\"know\" + 0.006*\"think\" + 0.006*\"time\" + 0.006*\"year\"\n",
      "\n",
      "\n",
      "Topic: 6 \n",
      "Words: 0.014*\"articl\" + 0.009*\"like\" + 0.008*\"know\" + 0.008*\"time\" + 0.007*\"problem\" + 0.006*\"pitt\" + 0.006*\"think\" + 0.006*\"host\" + 0.006*\"food\" + 0.006*\"scienc\"\n",
      "\n",
      "\n",
      "Topic: 7 \n",
      "Words: 0.017*\"drive\" + 0.008*\"like\" + 0.007*\"power\" + 0.007*\"work\" + 0.006*\"need\" + 0.006*\"control\" + 0.006*\"time\" + 0.006*\"disk\" + 0.005*\"wire\" + 0.005*\"problem\"\n",
      "\n",
      "\n",
      "Topic: 8 \n",
      "Words: 0.017*\"game\" + 0.015*\"team\" + 0.012*\"year\" + 0.011*\"play\" + 0.009*\"player\" + 0.009*\"articl\" + 0.008*\"think\" + 0.007*\"like\" + 0.007*\"univers\" + 0.007*\"hockey\"\n",
      "\n",
      "\n",
      "Topic: 9 \n",
      "Words: 0.013*\"peopl\" + 0.012*\"think\" + 0.012*\"christian\" + 0.010*\"know\" + 0.010*\"believ\" + 0.009*\"say\" + 0.008*\"jesus\" + 0.006*\"mean\" + 0.006*\"exist\" + 0.006*\"thing\"\n",
      "\n",
      "\n"
     ]
    }
   ],
   "source": [
    "for idx, topic in lda_model.print_topics():\n",
    "    print(\"Topic: {} \\nWords: {}\".format(idx, topic ))\n",
    "    print(\"\\n\")"
   ]
  },
  {
   "cell_type": "code",
   "execution_count": 24,
   "metadata": {},
   "outputs": [
    {
     "name": "stdout",
     "output_type": "stream",
     "text": [
      "Subject: help\n",
      "From: C..Doelle@p26.f3333.n106.z1.fidonet.org (C. Doelle)\n",
      "Lines: 13\n",
      "\n",
      "Hello All!\n",
      "\n",
      "    It is my understanding that all True-Type fonts in Windows are loaded in\n",
      "prior to starting Windows - this makes getting into Windows quite slow if you\n",
      "have hundreds of them as I do.  First off, am I correct in this thinking -\n",
      "secondly, if that is the case - can you get Windows to ignore them on boot and\n",
      "maybe make something like a PIF file to load them only when you enter the\n",
      "applications that need fonts?  Any ideas?\n",
      "\n",
      "\n",
      "Chris\n",
      "\n",
      " * Origin: chris.doelle.@f3333.n106.z1.fidonet.org (1:106/3333.26)\n",
      "\n"
     ]
    }
   ],
   "source": [
    "num = 100\n",
    "unseen_document = ng_test.data[num]\n",
    "print(unseen_document)"
   ]
  },
  {
   "cell_type": "code",
   "execution_count": 25,
   "metadata": {},
   "outputs": [
    {
     "name": "stdout",
     "output_type": "stream",
     "text": [
      "Score: 0.9762994647026062\t Topic: 0.030*\"window\" + 0.022*\"file\" + 0.015*\"program\" + 0.011*\"problem\" + 0.008*\"work\" + 0.008*\"driver\" + 0.007*\"color\" + 0.007*\"display\" + 0.007*\"version\" + 0.007*\"know\" + 0.006*\"like\" + 0.006*\"entri\" + 0.006*\"need\" + 0.006*\"help\" + 0.006*\"host\" + 0.006*\"imag\" + 0.006*\"screen\" + 0.005*\"applic\" + 0.005*\"thank\" + 0.005*\"mous\" + 0.005*\"run\" + 0.005*\"univers\" + 0.005*\"nntp\" + 0.005*\"time\" + 0.005*\"font\" + 0.005*\"articl\" + 0.005*\"server\" + 0.005*\"manag\" + 0.005*\"memori\" + 0.004*\"card\" + 0.004*\"output\" + 0.004*\"error\" + 0.004*\"chang\" + 0.004*\"want\" + 0.004*\"mode\" + 0.004*\"look\" + 0.004*\"read\" + 0.004*\"machin\" + 0.004*\"appl\" + 0.004*\"repli\" + 0.004*\"softwar\" + 0.003*\"follow\" + 0.003*\"code\" + 0.003*\"includ\" + 0.003*\"tri\" + 0.003*\"keyboard\" + 0.003*\"widget\" + 0.003*\"info\" + 0.003*\"type\" + 0.003*\"size\" + 0.003*\"format\" + 0.003*\"instal\" + 0.003*\"convert\" + 0.003*\"graphic\" + 0.003*\"function\" + 0.003*\"build\" + 0.003*\"support\" + 0.003*\"section\" + 0.003*\"client\" + 0.003*\"number\" + 0.003*\"creat\" + 0.003*\"user\" + 0.003*\"call\" + 0.003*\"question\" + 0.003*\"distribut\" + 0.003*\"sourc\" + 0.003*\"valu\" + 0.003*\"think\" + 0.003*\"byte\" + 0.003*\"draw\" + 0.003*\"differ\" + 0.003*\"return\" + 0.003*\"start\" + 0.003*\"charact\" + 0.002*\"event\" + 0.002*\"open\" + 0.002*\"copi\" + 0.002*\"disk\" + 0.002*\"text\" + 0.002*\"print\" + 0.002*\"compil\" + 0.002*\"inform\" + 0.002*\"xterm\" + 0.002*\"tell\" + 0.002*\"directori\" + 0.002*\"avail\" + 0.002*\"use\" + 0.002*\"video\" + 0.002*\"correct\" + 0.002*\"possibl\" + 0.002*\"case\" + 0.002*\"appreci\" + 0.002*\"keyword\" + 0.002*\"michael\" + 0.002*\"set\" + 0.002*\"default\" + 0.002*\"check\" + 0.002*\"load\" + 0.002*\"string\" + 0.002*\"current\"\n"
     ]
    }
   ],
   "source": [
    "bow_vector = dictionary.doc2bow(preprocess(unseen_document))\n",
    "\n",
    "for index, score in sorted(lda_model[bow_vector]):\n",
    "    print(\"Score: {}\\t Topic: {}\".format(score, lda_model.print_topic(index, 100)))"
   ]
  },
  {
   "cell_type": "markdown",
   "metadata": {},
   "source": [
    "# let's Save our model"
   ]
  },
  {
   "cell_type": "code",
   "execution_count": 26,
   "metadata": {},
   "outputs": [
    {
     "data": {
      "text/plain": [
       "['rf_regressor.pkl']"
      ]
     },
     "execution_count": 26,
     "metadata": {},
     "output_type": "execute_result"
    }
   ],
   "source": [
    "from sklearn.externals import joblib\n",
    "joblib.dump(bow_doc_x,'rf_regressor.pkl')"
   ]
  },
  {
   "cell_type": "code",
   "execution_count": 27,
   "metadata": {},
   "outputs": [
    {
     "name": "stdout",
     "output_type": "stream",
     "text": [
      "7\n",
      "16\n",
      "19\n",
      "15\n",
      "8\n"
     ]
    }
   ],
   "source": [
    "# Let's put our model to test by giving random values\n",
    "print(ng_test.target[0])\n",
    "print(ng_test.target[19])\n",
    "print(ng_test.target[4])\n",
    "print(ng_test.target[6])\n",
    "print(ng_test.target[13])"
   ]
  }
 ],
 "metadata": {
  "kernelspec": {
   "display_name": "Python 3",
   "language": "python",
   "name": "python3"
  },
  "language_info": {
   "codemirror_mode": {
    "name": "ipython",
    "version": 3
   },
   "file_extension": ".py",
   "mimetype": "text/x-python",
   "name": "python",
   "nbconvert_exporter": "python",
   "pygments_lexer": "ipython3",
   "version": "3.7.4"
  }
 },
 "nbformat": 4,
 "nbformat_minor": 2
}
