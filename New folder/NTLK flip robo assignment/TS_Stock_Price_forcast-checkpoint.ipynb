{
 "cells": [
  {
   "cell_type": "markdown",
   "metadata": {},
   "source": [
    "# TS_Stock_Price_forcast"
   ]
  },
  {
   "cell_type": "markdown",
   "metadata": {},
   "source": [
    "Importing all necessary libraries"
   ]
  },
  {
   "cell_type": "code",
   "execution_count": 1,
   "metadata": {},
   "outputs": [],
   "source": [
    "from datetime import datetime\n",
    "import matplotlib.pyplot as plt\n",
    "import pandas as pd\n",
    "import numpy as np\n",
    "from statsmodels.tsa.arima_model import ARIMA\n",
    "from pmdarima.arima import auto_arima\n",
    "from sklearn.metrics import mean_squared_error, mean_absolute_error\n",
    "from statsmodels.tsa.arima_model import ARIMA\n",
    "import math\n",
    "#plt.style.use('fivethirtyeight')\n",
    "#from pylab import rcParams\n",
    "from statsmodels.tsa.seasonal import seasonal_decompose\n",
    "from statsmodels.tsa.stattools import adfuller\n",
    "import warnings\n",
    "warnings.filterwarnings('ignore')"
   ]
  },
  {
   "cell_type": "code",
   "execution_count": 2,
   "metadata": {},
   "outputs": [
    {
     "data": {
      "text/html": [
       "<div>\n",
       "<style scoped>\n",
       "    .dataframe tbody tr th:only-of-type {\n",
       "        vertical-align: middle;\n",
       "    }\n",
       "\n",
       "    .dataframe tbody tr th {\n",
       "        vertical-align: top;\n",
       "    }\n",
       "\n",
       "    .dataframe thead th {\n",
       "        text-align: right;\n",
       "    }\n",
       "</style>\n",
       "<table border=\"1\" class=\"dataframe\">\n",
       "  <thead>\n",
       "    <tr style=\"text-align: right;\">\n",
       "      <th></th>\n",
       "      <th>Date</th>\n",
       "      <th>Oil Investments</th>\n",
       "      <th>Gold Investments</th>\n",
       "      <th>Comp Stock</th>\n",
       "      <th>Other sharesInvestments</th>\n",
       "    </tr>\n",
       "  </thead>\n",
       "  <tbody>\n",
       "    <tr>\n",
       "      <th>0</th>\n",
       "      <td>31-12-2009</td>\n",
       "      <td>0.025417</td>\n",
       "      <td>0.000150</td>\n",
       "      <td>0.017354</td>\n",
       "      <td>0.006848</td>\n",
       "    </tr>\n",
       "    <tr>\n",
       "      <th>1</th>\n",
       "      <td>04-01-2010</td>\n",
       "      <td>0.026830</td>\n",
       "      <td>0.001097</td>\n",
       "      <td>0.015565</td>\n",
       "      <td>-0.004609</td>\n",
       "    </tr>\n",
       "    <tr>\n",
       "      <th>2</th>\n",
       "      <td>05-01-2010</td>\n",
       "      <td>0.002699</td>\n",
       "      <td>0.001560</td>\n",
       "      <td>0.001729</td>\n",
       "      <td>0.005900</td>\n",
       "    </tr>\n",
       "    <tr>\n",
       "      <th>3</th>\n",
       "      <td>06-01-2010</td>\n",
       "      <td>0.021688</td>\n",
       "      <td>0.006009</td>\n",
       "      <td>-0.015906</td>\n",
       "      <td>-0.018116</td>\n",
       "    </tr>\n",
       "    <tr>\n",
       "      <th>4</th>\n",
       "      <td>07-01-2010</td>\n",
       "      <td>-0.006256</td>\n",
       "      <td>0.000221</td>\n",
       "      <td>-0.001849</td>\n",
       "      <td>-0.017013</td>\n",
       "    </tr>\n",
       "    <tr>\n",
       "      <th>5</th>\n",
       "      <td>08-01-2010</td>\n",
       "      <td>0.001269</td>\n",
       "      <td>-0.013097</td>\n",
       "      <td>0.006648</td>\n",
       "      <td>0.027077</td>\n",
       "    </tr>\n",
       "    <tr>\n",
       "      <th>6</th>\n",
       "      <td>11-01-2010</td>\n",
       "      <td>-0.002417</td>\n",
       "      <td>0.023297</td>\n",
       "      <td>-0.008822</td>\n",
       "      <td>-0.024041</td>\n",
       "    </tr>\n",
       "    <tr>\n",
       "      <th>7</th>\n",
       "      <td>12-01-2010</td>\n",
       "      <td>-0.021202</td>\n",
       "      <td>-0.001518</td>\n",
       "      <td>-0.011375</td>\n",
       "      <td>-0.022715</td>\n",
       "    </tr>\n",
       "    <tr>\n",
       "      <th>8</th>\n",
       "      <td>13-01-2010</td>\n",
       "      <td>-0.013987</td>\n",
       "      <td>-0.020847</td>\n",
       "      <td>0.014106</td>\n",
       "      <td>0.013820</td>\n",
       "    </tr>\n",
       "    <tr>\n",
       "      <th>9</th>\n",
       "      <td>14-01-2010</td>\n",
       "      <td>-0.003892</td>\n",
       "      <td>0.009758</td>\n",
       "      <td>-0.005792</td>\n",
       "      <td>-0.013632</td>\n",
       "    </tr>\n",
       "    <tr>\n",
       "      <th>10</th>\n",
       "      <td>15-01-2010</td>\n",
       "      <td>-0.017517</td>\n",
       "      <td>-0.009005</td>\n",
       "      <td>-0.016712</td>\n",
       "      <td>-0.001649</td>\n",
       "    </tr>\n",
       "    <tr>\n",
       "      <th>11</th>\n",
       "      <td>19-01-2010</td>\n",
       "      <td>0.013084</td>\n",
       "      <td>0.004433</td>\n",
       "      <td>0.044238</td>\n",
       "      <td>0.003697</td>\n",
       "    </tr>\n",
       "    <tr>\n",
       "      <th>12</th>\n",
       "      <td>20-01-2010</td>\n",
       "      <td>-0.013975</td>\n",
       "      <td>-0.011253</td>\n",
       "      <td>-0.015392</td>\n",
       "      <td>-0.014341</td>\n",
       "    </tr>\n",
       "    <tr>\n",
       "      <th>13</th>\n",
       "      <td>21-01-2010</td>\n",
       "      <td>-0.020408</td>\n",
       "      <td>-0.010712</td>\n",
       "      <td>-0.017286</td>\n",
       "      <td>0.006678</td>\n",
       "    </tr>\n",
       "    <tr>\n",
       "      <th>14</th>\n",
       "      <td>22-01-2010</td>\n",
       "      <td>-0.020965</td>\n",
       "      <td>-0.021881</td>\n",
       "      <td>-0.049599</td>\n",
       "      <td>-0.040989</td>\n",
       "    </tr>\n",
       "    <tr>\n",
       "      <th>15</th>\n",
       "      <td>25-01-2010</td>\n",
       "      <td>0.008754</td>\n",
       "      <td>0.010378</td>\n",
       "      <td>0.026903</td>\n",
       "      <td>-0.009223</td>\n",
       "    </tr>\n",
       "    <tr>\n",
       "      <th>16</th>\n",
       "      <td>26-01-2010</td>\n",
       "      <td>-0.003071</td>\n",
       "      <td>-0.001826</td>\n",
       "      <td>0.014133</td>\n",
       "      <td>-0.006899</td>\n",
       "    </tr>\n",
       "    <tr>\n",
       "      <th>17</th>\n",
       "      <td>27-01-2010</td>\n",
       "      <td>-0.013794</td>\n",
       "      <td>0.001372</td>\n",
       "      <td>0.009420</td>\n",
       "      <td>0.027369</td>\n",
       "    </tr>\n",
       "    <tr>\n",
       "      <th>18</th>\n",
       "      <td>28-01-2010</td>\n",
       "      <td>-0.000272</td>\n",
       "      <td>-0.006166</td>\n",
       "      <td>-0.041322</td>\n",
       "      <td>0.026721</td>\n",
       "    </tr>\n",
       "    <tr>\n",
       "      <th>19</th>\n",
       "      <td>29-01-2010</td>\n",
       "      <td>-0.010459</td>\n",
       "      <td>-0.008732</td>\n",
       "      <td>-0.036279</td>\n",
       "      <td>-0.004919</td>\n",
       "    </tr>\n",
       "    <tr>\n",
       "      <th>20</th>\n",
       "      <td>01-02-2010</td>\n",
       "      <td>0.021414</td>\n",
       "      <td>0.007418</td>\n",
       "      <td>0.013902</td>\n",
       "      <td>-0.052149</td>\n",
       "    </tr>\n",
       "    <tr>\n",
       "      <th>21</th>\n",
       "      <td>02-02-2010</td>\n",
       "      <td>0.037629</td>\n",
       "      <td>0.022549</td>\n",
       "      <td>0.005803</td>\n",
       "      <td>-0.006309</td>\n",
       "    </tr>\n",
       "    <tr>\n",
       "      <th>22</th>\n",
       "      <td>03-02-2010</td>\n",
       "      <td>-0.003238</td>\n",
       "      <td>0.003825</td>\n",
       "      <td>0.017206</td>\n",
       "      <td>0.008297</td>\n",
       "    </tr>\n",
       "    <tr>\n",
       "      <th>23</th>\n",
       "      <td>04-02-2010</td>\n",
       "      <td>-0.049766</td>\n",
       "      <td>-0.028693</td>\n",
       "      <td>-0.036039</td>\n",
       "      <td>-0.026532</td>\n",
       "    </tr>\n",
       "    <tr>\n",
       "      <th>24</th>\n",
       "      <td>05-02-2010</td>\n",
       "      <td>-0.027075</td>\n",
       "      <td>-0.023309</td>\n",
       "      <td>0.017756</td>\n",
       "      <td>0.012506</td>\n",
       "    </tr>\n",
       "    <tr>\n",
       "      <th>25</th>\n",
       "      <td>08-02-2010</td>\n",
       "      <td>0.010119</td>\n",
       "      <td>0.005671</td>\n",
       "      <td>-0.006856</td>\n",
       "      <td>-0.004770</td>\n",
       "    </tr>\n",
       "    <tr>\n",
       "      <th>26</th>\n",
       "      <td>09-02-2010</td>\n",
       "      <td>0.025602</td>\n",
       "      <td>0.006814</td>\n",
       "      <td>0.010664</td>\n",
       "      <td>0.010271</td>\n",
       "    </tr>\n",
       "    <tr>\n",
       "      <th>27</th>\n",
       "      <td>10-02-2010</td>\n",
       "      <td>0.010446</td>\n",
       "      <td>-0.001634</td>\n",
       "      <td>-0.005454</td>\n",
       "      <td>-0.005677</td>\n",
       "    </tr>\n",
       "    <tr>\n",
       "      <th>28</th>\n",
       "      <td>11-02-2010</td>\n",
       "      <td>0.010070</td>\n",
       "      <td>0.006311</td>\n",
       "      <td>0.018194</td>\n",
       "      <td>0.023262</td>\n",
       "    </tr>\n",
       "    <tr>\n",
       "      <th>29</th>\n",
       "      <td>12-02-2010</td>\n",
       "      <td>-0.014888</td>\n",
       "      <td>0.005343</td>\n",
       "      <td>0.008607</td>\n",
       "      <td>-0.003581</td>\n",
       "    </tr>\n",
       "    <tr>\n",
       "      <th>30</th>\n",
       "      <td>16-02-2010</td>\n",
       "      <td>0.038726</td>\n",
       "      <td>0.030730</td>\n",
       "      <td>0.015071</td>\n",
       "      <td>-0.017800</td>\n",
       "    </tr>\n",
       "    <tr>\n",
       "      <th>31</th>\n",
       "      <td>17-02-2010</td>\n",
       "      <td>0.003767</td>\n",
       "      <td>0.003362</td>\n",
       "      <td>-0.004179</td>\n",
       "      <td>-0.010380</td>\n",
       "    </tr>\n",
       "    <tr>\n",
       "      <th>32</th>\n",
       "      <td>18-02-2010</td>\n",
       "      <td>0.022001</td>\n",
       "      <td>-0.000894</td>\n",
       "      <td>0.001876</td>\n",
       "      <td>0.015218</td>\n",
       "    </tr>\n",
       "    <tr>\n",
       "      <th>33</th>\n",
       "      <td>19-02-2010</td>\n",
       "      <td>0.010130</td>\n",
       "      <td>-0.004696</td>\n",
       "      <td>-0.006209</td>\n",
       "      <td>-0.004743</td>\n",
       "    </tr>\n",
       "    <tr>\n",
       "      <th>34</th>\n",
       "      <td>22-02-2010</td>\n",
       "      <td>0.003385</td>\n",
       "      <td>0.002247</td>\n",
       "      <td>-0.006198</td>\n",
       "      <td>0.004170</td>\n",
       "    </tr>\n",
       "    <tr>\n",
       "      <th>35</th>\n",
       "      <td>23-02-2010</td>\n",
       "      <td>-0.017866</td>\n",
       "      <td>-0.007397</td>\n",
       "      <td>-0.016765</td>\n",
       "      <td>-0.006525</td>\n",
       "    </tr>\n",
       "    <tr>\n",
       "      <th>36</th>\n",
       "      <td>24-02-2010</td>\n",
       "      <td>0.014502</td>\n",
       "      <td>-0.003613</td>\n",
       "      <td>0.018269</td>\n",
       "      <td>0.021153</td>\n",
       "    </tr>\n",
       "    <tr>\n",
       "      <th>37</th>\n",
       "      <td>25-02-2010</td>\n",
       "      <td>-0.022069</td>\n",
       "      <td>-0.007706</td>\n",
       "      <td>0.006678</td>\n",
       "      <td>-0.012696</td>\n",
       "    </tr>\n",
       "    <tr>\n",
       "      <th>38</th>\n",
       "      <td>26-02-2010</td>\n",
       "      <td>0.022182</td>\n",
       "      <td>0.012563</td>\n",
       "      <td>0.012970</td>\n",
       "      <td>0.001692</td>\n",
       "    </tr>\n",
       "    <tr>\n",
       "      <th>39</th>\n",
       "      <td>01-03-2010</td>\n",
       "      <td>-0.012669</td>\n",
       "      <td>0.005188</td>\n",
       "      <td>0.021357</td>\n",
       "      <td>0.051858</td>\n",
       "    </tr>\n",
       "    <tr>\n",
       "      <th>40</th>\n",
       "      <td>02-03-2010</td>\n",
       "      <td>0.011561</td>\n",
       "      <td>0.011221</td>\n",
       "      <td>-0.000670</td>\n",
       "      <td>0.007949</td>\n",
       "    </tr>\n",
       "    <tr>\n",
       "      <th>41</th>\n",
       "      <td>03-03-2010</td>\n",
       "      <td>0.016202</td>\n",
       "      <td>0.008877</td>\n",
       "      <td>0.002298</td>\n",
       "      <td>0.002868</td>\n",
       "    </tr>\n",
       "    <tr>\n",
       "      <th>42</th>\n",
       "      <td>04-03-2010</td>\n",
       "      <td>-0.008652</td>\n",
       "      <td>-0.001760</td>\n",
       "      <td>0.006592</td>\n",
       "      <td>0.020971</td>\n",
       "    </tr>\n",
       "    <tr>\n",
       "      <th>43</th>\n",
       "      <td>05-03-2010</td>\n",
       "      <td>0.016083</td>\n",
       "      <td>0.000441</td>\n",
       "      <td>0.039106</td>\n",
       "      <td>0.002957</td>\n",
       "    </tr>\n",
       "    <tr>\n",
       "      <th>44</th>\n",
       "      <td>08-03-2010</td>\n",
       "      <td>0.004294</td>\n",
       "      <td>-0.008150</td>\n",
       "      <td>0.000594</td>\n",
       "      <td>0.009309</td>\n",
       "    </tr>\n",
       "    <tr>\n",
       "      <th>45</th>\n",
       "      <td>09-03-2010</td>\n",
       "      <td>-0.004276</td>\n",
       "      <td>-0.008883</td>\n",
       "      <td>0.017984</td>\n",
       "      <td>-0.009915</td>\n",
       "    </tr>\n",
       "    <tr>\n",
       "      <th>46</th>\n",
       "      <td>10-03-2010</td>\n",
       "      <td>0.006994</td>\n",
       "      <td>0.004257</td>\n",
       "      <td>0.008161</td>\n",
       "      <td>0.013119</td>\n",
       "    </tr>\n",
       "    <tr>\n",
       "      <th>47</th>\n",
       "      <td>11-03-2010</td>\n",
       "      <td>0.000366</td>\n",
       "      <td>-0.014726</td>\n",
       "      <td>0.002935</td>\n",
       "      <td>0.023523</td>\n",
       "    </tr>\n",
       "    <tr>\n",
       "      <th>48</th>\n",
       "      <td>12-03-2010</td>\n",
       "      <td>-0.010231</td>\n",
       "      <td>0.002038</td>\n",
       "      <td>0.004878</td>\n",
       "      <td>-0.013176</td>\n",
       "    </tr>\n",
       "    <tr>\n",
       "      <th>49</th>\n",
       "      <td>15-03-2010</td>\n",
       "      <td>-0.018090</td>\n",
       "      <td>-0.001808</td>\n",
       "      <td>-0.012180</td>\n",
       "      <td>-0.005234</td>\n",
       "    </tr>\n",
       "  </tbody>\n",
       "</table>\n",
       "</div>"
      ],
      "text/plain": [
       "          Date  Oil Investments  Gold Investments  Comp Stock  \\\n",
       "0   31-12-2009         0.025417          0.000150    0.017354   \n",
       "1   04-01-2010         0.026830          0.001097    0.015565   \n",
       "2   05-01-2010         0.002699          0.001560    0.001729   \n",
       "3   06-01-2010         0.021688          0.006009   -0.015906   \n",
       "4   07-01-2010        -0.006256          0.000221   -0.001849   \n",
       "5   08-01-2010         0.001269         -0.013097    0.006648   \n",
       "6   11-01-2010        -0.002417          0.023297   -0.008822   \n",
       "7   12-01-2010        -0.021202         -0.001518   -0.011375   \n",
       "8   13-01-2010        -0.013987         -0.020847    0.014106   \n",
       "9   14-01-2010        -0.003892          0.009758   -0.005792   \n",
       "10  15-01-2010        -0.017517         -0.009005   -0.016712   \n",
       "11  19-01-2010         0.013084          0.004433    0.044238   \n",
       "12  20-01-2010        -0.013975         -0.011253   -0.015392   \n",
       "13  21-01-2010        -0.020408         -0.010712   -0.017286   \n",
       "14  22-01-2010        -0.020965         -0.021881   -0.049599   \n",
       "15  25-01-2010         0.008754          0.010378    0.026903   \n",
       "16  26-01-2010        -0.003071         -0.001826    0.014133   \n",
       "17  27-01-2010        -0.013794          0.001372    0.009420   \n",
       "18  28-01-2010        -0.000272         -0.006166   -0.041322   \n",
       "19  29-01-2010        -0.010459         -0.008732   -0.036279   \n",
       "20  01-02-2010         0.021414          0.007418    0.013902   \n",
       "21  02-02-2010         0.037629          0.022549    0.005803   \n",
       "22  03-02-2010        -0.003238          0.003825    0.017206   \n",
       "23  04-02-2010        -0.049766         -0.028693   -0.036039   \n",
       "24  05-02-2010        -0.027075         -0.023309    0.017756   \n",
       "25  08-02-2010         0.010119          0.005671   -0.006856   \n",
       "26  09-02-2010         0.025602          0.006814    0.010664   \n",
       "27  10-02-2010         0.010446         -0.001634   -0.005454   \n",
       "28  11-02-2010         0.010070          0.006311    0.018194   \n",
       "29  12-02-2010        -0.014888          0.005343    0.008607   \n",
       "30  16-02-2010         0.038726          0.030730    0.015071   \n",
       "31  17-02-2010         0.003767          0.003362   -0.004179   \n",
       "32  18-02-2010         0.022001         -0.000894    0.001876   \n",
       "33  19-02-2010         0.010130         -0.004696   -0.006209   \n",
       "34  22-02-2010         0.003385          0.002247   -0.006198   \n",
       "35  23-02-2010        -0.017866         -0.007397   -0.016765   \n",
       "36  24-02-2010         0.014502         -0.003613    0.018269   \n",
       "37  25-02-2010        -0.022069         -0.007706    0.006678   \n",
       "38  26-02-2010         0.022182          0.012563    0.012970   \n",
       "39  01-03-2010        -0.012669          0.005188    0.021357   \n",
       "40  02-03-2010         0.011561          0.011221   -0.000670   \n",
       "41  03-03-2010         0.016202          0.008877    0.002298   \n",
       "42  04-03-2010        -0.008652         -0.001760    0.006592   \n",
       "43  05-03-2010         0.016083          0.000441    0.039106   \n",
       "44  08-03-2010         0.004294         -0.008150    0.000594   \n",
       "45  09-03-2010        -0.004276         -0.008883    0.017984   \n",
       "46  10-03-2010         0.006994          0.004257    0.008161   \n",
       "47  11-03-2010         0.000366         -0.014726    0.002935   \n",
       "48  12-03-2010        -0.010231          0.002038    0.004878   \n",
       "49  15-03-2010        -0.018090         -0.001808   -0.012180   \n",
       "\n",
       "    Other sharesInvestments  \n",
       "0                  0.006848  \n",
       "1                 -0.004609  \n",
       "2                  0.005900  \n",
       "3                 -0.018116  \n",
       "4                 -0.017013  \n",
       "5                  0.027077  \n",
       "6                 -0.024041  \n",
       "7                 -0.022715  \n",
       "8                  0.013820  \n",
       "9                 -0.013632  \n",
       "10                -0.001649  \n",
       "11                 0.003697  \n",
       "12                -0.014341  \n",
       "13                 0.006678  \n",
       "14                -0.040989  \n",
       "15                -0.009223  \n",
       "16                -0.006899  \n",
       "17                 0.027369  \n",
       "18                 0.026721  \n",
       "19                -0.004919  \n",
       "20                -0.052149  \n",
       "21                -0.006309  \n",
       "22                 0.008297  \n",
       "23                -0.026532  \n",
       "24                 0.012506  \n",
       "25                -0.004770  \n",
       "26                 0.010271  \n",
       "27                -0.005677  \n",
       "28                 0.023262  \n",
       "29                -0.003581  \n",
       "30                -0.017800  \n",
       "31                -0.010380  \n",
       "32                 0.015218  \n",
       "33                -0.004743  \n",
       "34                 0.004170  \n",
       "35                -0.006525  \n",
       "36                 0.021153  \n",
       "37                -0.012696  \n",
       "38                 0.001692  \n",
       "39                 0.051858  \n",
       "40                 0.007949  \n",
       "41                 0.002868  \n",
       "42                 0.020971  \n",
       "43                 0.002957  \n",
       "44                 0.009309  \n",
       "45                -0.009915  \n",
       "46                 0.013119  \n",
       "47                 0.023523  \n",
       "48                -0.013176  \n",
       "49                -0.005234  "
      ]
     },
     "execution_count": 2,
     "metadata": {},
     "output_type": "execute_result"
    }
   ],
   "source": [
    "data = pd.read_csv('Company Stock and Investment.csv')\n",
    "data.head(50)"
   ]
  },
  {
   "cell_type": "code",
   "execution_count": 3,
   "metadata": {},
   "outputs": [],
   "source": [
    "# data_com_stock = data.copy()\n",
    "# data_com_stock=data_com_stock[['Date','Comp Stock']]\n",
    "# data_com_stock"
   ]
  },
  {
   "cell_type": "code",
   "execution_count": 4,
   "metadata": {},
   "outputs": [
    {
     "data": {
      "text/plain": [
       "Date                        object\n",
       "Oil Investments            float64\n",
       "Gold Investments           float64\n",
       "Comp Stock                 float64\n",
       "Other sharesInvestments    float64\n",
       "dtype: object"
      ]
     },
     "execution_count": 4,
     "metadata": {},
     "output_type": "execute_result"
    }
   ],
   "source": [
    "data.dtypes"
   ]
  },
  {
   "cell_type": "code",
   "execution_count": 5,
   "metadata": {},
   "outputs": [
    {
     "data": {
      "text/plain": [
       "Date                       0\n",
       "Oil Investments            0\n",
       "Gold Investments           0\n",
       "Comp Stock                 0\n",
       "Other sharesInvestments    0\n",
       "dtype: int64"
      ]
     },
     "execution_count": 5,
     "metadata": {},
     "output_type": "execute_result"
    }
   ],
   "source": [
    "data.isna().sum()"
   ]
  },
  {
   "cell_type": "code",
   "execution_count": 6,
   "metadata": {},
   "outputs": [],
   "source": [
    "date_parser = lambda dates: pd.datetime.strptime(dates,'%d-%m-%Y')\n",
    "time_data = pd.read_csv('Company Stock and Investment.csv',parse_dates=['Date'],index_col=['Date'],date_parser=date_parser)"
   ]
  },
  {
   "cell_type": "code",
   "execution_count": 7,
   "metadata": {},
   "outputs": [
    {
     "data": {
      "text/plain": [
       "Date                       datetime64[ns]\n",
       "Oil Investments                   float64\n",
       "Gold Investments                  float64\n",
       "Comp Stock                        float64\n",
       "Other sharesInvestments           float64\n",
       "dtype: object"
      ]
     },
     "execution_count": 7,
     "metadata": {},
     "output_type": "execute_result"
    }
   ],
   "source": [
    "time_data2 = pd.read_csv('Company Stock and Investment.csv',parse_dates=['Date'],date_parser=date_parser)\n",
    "time_data2.dtypes"
   ]
  },
  {
   "cell_type": "code",
   "execution_count": 8,
   "metadata": {},
   "outputs": [
    {
     "data": {
      "text/html": [
       "<div>\n",
       "<style scoped>\n",
       "    .dataframe tbody tr th:only-of-type {\n",
       "        vertical-align: middle;\n",
       "    }\n",
       "\n",
       "    .dataframe tbody tr th {\n",
       "        vertical-align: top;\n",
       "    }\n",
       "\n",
       "    .dataframe thead th {\n",
       "        text-align: right;\n",
       "    }\n",
       "</style>\n",
       "<table border=\"1\" class=\"dataframe\">\n",
       "  <thead>\n",
       "    <tr style=\"text-align: right;\">\n",
       "      <th></th>\n",
       "      <th>Oil Investments</th>\n",
       "      <th>Gold Investments</th>\n",
       "      <th>Comp Stock</th>\n",
       "      <th>Other sharesInvestments</th>\n",
       "    </tr>\n",
       "    <tr>\n",
       "      <th>Date</th>\n",
       "      <th></th>\n",
       "      <th></th>\n",
       "      <th></th>\n",
       "      <th></th>\n",
       "    </tr>\n",
       "  </thead>\n",
       "  <tbody>\n",
       "    <tr>\n",
       "      <th>2009-12-31</th>\n",
       "      <td>0.025417</td>\n",
       "      <td>0.000150</td>\n",
       "      <td>0.017354</td>\n",
       "      <td>0.006848</td>\n",
       "    </tr>\n",
       "    <tr>\n",
       "      <th>2010-01-04</th>\n",
       "      <td>0.026830</td>\n",
       "      <td>0.001097</td>\n",
       "      <td>0.015565</td>\n",
       "      <td>-0.004609</td>\n",
       "    </tr>\n",
       "    <tr>\n",
       "      <th>2010-01-05</th>\n",
       "      <td>0.002699</td>\n",
       "      <td>0.001560</td>\n",
       "      <td>0.001729</td>\n",
       "      <td>0.005900</td>\n",
       "    </tr>\n",
       "    <tr>\n",
       "      <th>2010-01-06</th>\n",
       "      <td>0.021688</td>\n",
       "      <td>0.006009</td>\n",
       "      <td>-0.015906</td>\n",
       "      <td>-0.018116</td>\n",
       "    </tr>\n",
       "    <tr>\n",
       "      <th>2010-01-07</th>\n",
       "      <td>-0.006256</td>\n",
       "      <td>0.000221</td>\n",
       "      <td>-0.001849</td>\n",
       "      <td>-0.017013</td>\n",
       "    </tr>\n",
       "  </tbody>\n",
       "</table>\n",
       "</div>"
      ],
      "text/plain": [
       "            Oil Investments  Gold Investments  Comp Stock  \\\n",
       "Date                                                        \n",
       "2009-12-31         0.025417          0.000150    0.017354   \n",
       "2010-01-04         0.026830          0.001097    0.015565   \n",
       "2010-01-05         0.002699          0.001560    0.001729   \n",
       "2010-01-06         0.021688          0.006009   -0.015906   \n",
       "2010-01-07        -0.006256          0.000221   -0.001849   \n",
       "\n",
       "            Other sharesInvestments  \n",
       "Date                                 \n",
       "2009-12-31                 0.006848  \n",
       "2010-01-04                -0.004609  \n",
       "2010-01-05                 0.005900  \n",
       "2010-01-06                -0.018116  \n",
       "2010-01-07                -0.017013  "
      ]
     },
     "execution_count": 8,
     "metadata": {},
     "output_type": "execute_result"
    }
   ],
   "source": [
    "time_data.head()"
   ]
  },
  {
   "cell_type": "code",
   "execution_count": 9,
   "metadata": {},
   "outputs": [],
   "source": [
    "time_data1 = time_data[['Comp Stock']]"
   ]
  },
  {
   "cell_type": "code",
   "execution_count": 10,
   "metadata": {},
   "outputs": [
    {
     "data": {
      "text/html": [
       "<div>\n",
       "<style scoped>\n",
       "    .dataframe tbody tr th:only-of-type {\n",
       "        vertical-align: middle;\n",
       "    }\n",
       "\n",
       "    .dataframe tbody tr th {\n",
       "        vertical-align: top;\n",
       "    }\n",
       "\n",
       "    .dataframe thead th {\n",
       "        text-align: right;\n",
       "    }\n",
       "</style>\n",
       "<table border=\"1\" class=\"dataframe\">\n",
       "  <thead>\n",
       "    <tr style=\"text-align: right;\">\n",
       "      <th></th>\n",
       "      <th>Comp Stock</th>\n",
       "    </tr>\n",
       "    <tr>\n",
       "      <th>Date</th>\n",
       "      <th></th>\n",
       "    </tr>\n",
       "  </thead>\n",
       "  <tbody>\n",
       "    <tr>\n",
       "      <th>2009-12-31</th>\n",
       "      <td>0.017354</td>\n",
       "    </tr>\n",
       "    <tr>\n",
       "      <th>2010-01-04</th>\n",
       "      <td>0.015565</td>\n",
       "    </tr>\n",
       "    <tr>\n",
       "      <th>2010-01-05</th>\n",
       "      <td>0.001729</td>\n",
       "    </tr>\n",
       "    <tr>\n",
       "      <th>2010-01-06</th>\n",
       "      <td>-0.015906</td>\n",
       "    </tr>\n",
       "    <tr>\n",
       "      <th>2010-01-07</th>\n",
       "      <td>-0.001849</td>\n",
       "    </tr>\n",
       "  </tbody>\n",
       "</table>\n",
       "</div>"
      ],
      "text/plain": [
       "            Comp Stock\n",
       "Date                  \n",
       "2009-12-31    0.017354\n",
       "2010-01-04    0.015565\n",
       "2010-01-05    0.001729\n",
       "2010-01-06   -0.015906\n",
       "2010-01-07   -0.001849"
      ]
     },
     "execution_count": 10,
     "metadata": {},
     "output_type": "execute_result"
    }
   ],
   "source": [
    "time_data1.head()"
   ]
  },
  {
   "cell_type": "code",
   "execution_count": 11,
   "metadata": {},
   "outputs": [],
   "source": [
    "test_result=adfuller(time_data1)"
   ]
  },
  {
   "cell_type": "code",
   "execution_count": 12,
   "metadata": {},
   "outputs": [],
   "source": [
    "def adfuller_test(sales):\n",
    "    result=adfuller(sales) # same as above ,variable name changed\n",
    "    labels = ['ADF Test Statistic','p-value','#Lags Used','Number of Observations Used']\n",
    "    for value,label in zip(result,labels):\n",
    "        print(label+' : '+str(value) )\n",
    "    if result[1] <= 0.05:\n",
    "        print(\"strong evidence against the null hypothesis(Ho), reject the null hypothesis. Data  is stationary\")\n",
    "    else:\n",
    "        print(\"weak evidence against null hypothesis, time series is non-stationary \")"
   ]
  },
  {
   "cell_type": "code",
   "execution_count": 13,
   "metadata": {},
   "outputs": [
    {
     "name": "stdout",
     "output_type": "stream",
     "text": [
      "ADF Test Statistic : -12.473386265908244\n",
      "p-value : 3.207774293089883e-23\n",
      "#Lags Used : 12\n",
      "Number of Observations Used : 1971\n",
      "strong evidence against the null hypothesis(Ho), reject the null hypothesis. Data  is stationary\n"
     ]
    }
   ],
   "source": [
    "adfuller_test(time_data1)"
   ]
  },
  {
   "cell_type": "code",
   "execution_count": 14,
   "metadata": {},
   "outputs": [],
   "source": [
    "time_data1['Sales First Difference'] = time_data1 - time_data1.shift(1)"
   ]
  },
  {
   "cell_type": "code",
   "execution_count": 15,
   "metadata": {},
   "outputs": [
    {
     "data": {
      "text/html": [
       "<div>\n",
       "<style scoped>\n",
       "    .dataframe tbody tr th:only-of-type {\n",
       "        vertical-align: middle;\n",
       "    }\n",
       "\n",
       "    .dataframe tbody tr th {\n",
       "        vertical-align: top;\n",
       "    }\n",
       "\n",
       "    .dataframe thead th {\n",
       "        text-align: right;\n",
       "    }\n",
       "</style>\n",
       "<table border=\"1\" class=\"dataframe\">\n",
       "  <thead>\n",
       "    <tr style=\"text-align: right;\">\n",
       "      <th></th>\n",
       "      <th>Comp Stock</th>\n",
       "      <th>Sales First Difference</th>\n",
       "    </tr>\n",
       "    <tr>\n",
       "      <th>Date</th>\n",
       "      <th></th>\n",
       "      <th></th>\n",
       "    </tr>\n",
       "  </thead>\n",
       "  <tbody>\n",
       "    <tr>\n",
       "      <th>2009-12-31</th>\n",
       "      <td>NaN</td>\n",
       "      <td>NaN</td>\n",
       "    </tr>\n",
       "    <tr>\n",
       "      <th>2010-01-04</th>\n",
       "      <td>0.017354</td>\n",
       "      <td>NaN</td>\n",
       "    </tr>\n",
       "    <tr>\n",
       "      <th>2010-01-05</th>\n",
       "      <td>0.015565</td>\n",
       "      <td>-0.001789</td>\n",
       "    </tr>\n",
       "    <tr>\n",
       "      <th>2010-01-06</th>\n",
       "      <td>0.001729</td>\n",
       "      <td>-0.013836</td>\n",
       "    </tr>\n",
       "    <tr>\n",
       "      <th>2010-01-07</th>\n",
       "      <td>-0.015906</td>\n",
       "      <td>-0.017635</td>\n",
       "    </tr>\n",
       "  </tbody>\n",
       "</table>\n",
       "</div>"
      ],
      "text/plain": [
       "            Comp Stock  Sales First Difference\n",
       "Date                                          \n",
       "2009-12-31         NaN                     NaN\n",
       "2010-01-04    0.017354                     NaN\n",
       "2010-01-05    0.015565               -0.001789\n",
       "2010-01-06    0.001729               -0.013836\n",
       "2010-01-07   -0.015906               -0.017635"
      ]
     },
     "execution_count": 15,
     "metadata": {},
     "output_type": "execute_result"
    }
   ],
   "source": [
    "time_data1.shift(1).head()"
   ]
  },
  {
   "cell_type": "code",
   "execution_count": 16,
   "metadata": {},
   "outputs": [],
   "source": [
    "time_data1['Seasonal First Difference']=time_data1['Comp Stock']-time_data1['Comp Stock'].shift(12) \n",
    "#as seasonal its a 12 month data"
   ]
  },
  {
   "cell_type": "code",
   "execution_count": 17,
   "metadata": {},
   "outputs": [
    {
     "data": {
      "text/html": [
       "<div>\n",
       "<style scoped>\n",
       "    .dataframe tbody tr th:only-of-type {\n",
       "        vertical-align: middle;\n",
       "    }\n",
       "\n",
       "    .dataframe tbody tr th {\n",
       "        vertical-align: top;\n",
       "    }\n",
       "\n",
       "    .dataframe thead th {\n",
       "        text-align: right;\n",
       "    }\n",
       "</style>\n",
       "<table border=\"1\" class=\"dataframe\">\n",
       "  <thead>\n",
       "    <tr style=\"text-align: right;\">\n",
       "      <th></th>\n",
       "      <th>Comp Stock</th>\n",
       "      <th>Sales First Difference</th>\n",
       "      <th>Seasonal First Difference</th>\n",
       "    </tr>\n",
       "    <tr>\n",
       "      <th>Date</th>\n",
       "      <th></th>\n",
       "      <th></th>\n",
       "      <th></th>\n",
       "    </tr>\n",
       "  </thead>\n",
       "  <tbody>\n",
       "    <tr>\n",
       "      <th>2009-12-31</th>\n",
       "      <td>0.017354</td>\n",
       "      <td>NaN</td>\n",
       "      <td>NaN</td>\n",
       "    </tr>\n",
       "    <tr>\n",
       "      <th>2010-01-04</th>\n",
       "      <td>0.015565</td>\n",
       "      <td>-0.001789</td>\n",
       "      <td>NaN</td>\n",
       "    </tr>\n",
       "    <tr>\n",
       "      <th>2010-01-05</th>\n",
       "      <td>0.001729</td>\n",
       "      <td>-0.013836</td>\n",
       "      <td>NaN</td>\n",
       "    </tr>\n",
       "    <tr>\n",
       "      <th>2010-01-06</th>\n",
       "      <td>-0.015906</td>\n",
       "      <td>-0.017635</td>\n",
       "      <td>NaN</td>\n",
       "    </tr>\n",
       "    <tr>\n",
       "      <th>2010-01-07</th>\n",
       "      <td>-0.001849</td>\n",
       "      <td>0.014058</td>\n",
       "      <td>NaN</td>\n",
       "    </tr>\n",
       "  </tbody>\n",
       "</table>\n",
       "</div>"
      ],
      "text/plain": [
       "            Comp Stock  Sales First Difference  Seasonal First Difference\n",
       "Date                                                                     \n",
       "2009-12-31    0.017354                     NaN                        NaN\n",
       "2010-01-04    0.015565               -0.001789                        NaN\n",
       "2010-01-05    0.001729               -0.013836                        NaN\n",
       "2010-01-06   -0.015906               -0.017635                        NaN\n",
       "2010-01-07   -0.001849                0.014058                        NaN"
      ]
     },
     "execution_count": 17,
     "metadata": {},
     "output_type": "execute_result"
    }
   ],
   "source": [
    "time_data1.head() #when subtracted with nan we get a nan"
   ]
  },
  {
   "cell_type": "code",
   "execution_count": 18,
   "metadata": {},
   "outputs": [
    {
     "name": "stdout",
     "output_type": "stream",
     "text": [
      "ADF Test Statistic : -13.2377473343972\n",
      "p-value : 9.304187972233725e-25\n",
      "#Lags Used : 26\n",
      "Number of Observations Used : 1945\n",
      "strong evidence against the null hypothesis(Ho), reject the null hypothesis. Data  is stationary\n"
     ]
    }
   ],
   "source": [
    "adfuller_test(time_data1['Seasonal First Difference'].dropna())"
   ]
  },
  {
   "cell_type": "code",
   "execution_count": 19,
   "metadata": {},
   "outputs": [
    {
     "data": {
      "text/plain": [
       "<AxesSubplot:xlabel='Date'>"
      ]
     },
     "execution_count": 19,
     "metadata": {},
     "output_type": "execute_result"
    },
    {
     "data": {
      "image/png": "[encoded data removed]",
      "text/plain": [
       "<Figure size 432x288 with 1 Axes>"
      ]
     },
     "metadata": {
      "needs_background": "light"
     },
     "output_type": "display_data"
    }
   ],
   "source": [
    "time_data1['Seasonal First Difference'].plot()"
   ]
  },
  {
   "cell_type": "markdown",
   "metadata": {},
   "source": [
    "# Auto Regressive Model"
   ]
  },
  {
   "cell_type": "code",
   "execution_count": 20,
   "metadata": {},
   "outputs": [
    {
     "data": {
      "image/png": "[encoded data removed]",
      "text/plain": [
       "<Figure size 432x288 with 1 Axes>"
      ]
     },
     "metadata": {
      "needs_background": "light"
     },
     "output_type": "display_data"
    }
   ],
   "source": [
    "from pandas.plotting import autocorrelation_plot\n",
    "autocorrelation_plot(time_data1['Comp Stock'])\n",
    "plt.show()"
   ]
  },
  {
   "cell_type": "code",
   "execution_count": 21,
   "metadata": {},
   "outputs": [],
   "source": [
    "from statsmodels.graphics.tsaplots import plot_acf,plot_pacf\n",
    "import statsmodels.api as sm"
   ]
  },
  {
   "cell_type": "code",
   "execution_count": 22,
   "metadata": {},
   "outputs": [
    {
     "data": {
      "image/png": "[encoded data removed]",
      "text/plain": [
       "<Figure size 864x576 with 2 Axes>"
      ]
     },
     "metadata": {
      "needs_background": "light"
     },
     "output_type": "display_data"
    }
   ],
   "source": [
    "fig = plt.figure(figsize=(12,8))\n",
    "ax1 = fig.add_subplot(211)\n",
    "# First 12 values are null so we will start from 13\n",
    "fig = sm.graphics.tsa.plot_acf(time_data1['Seasonal First Difference'].iloc[13:],lags=40,ax=ax1)\n",
    "ax2 = fig.add_subplot(212)\n",
    "fig = sm.graphics.tsa.plot_pacf(time_data1['Seasonal First Difference'].iloc[13:],lags=40,ax=ax2)"
   ]
  },
  {
   "cell_type": "code",
   "execution_count": 23,
   "metadata": {},
   "outputs": [],
   "source": [
    "model=ARIMA(time_data1['Comp Stock'],order=(1,1,1)) # this order is p d q(0 or 1) \n",
    "model_fit=model.fit()"
   ]
  },
  {
   "cell_type": "code",
   "execution_count": 24,
   "metadata": {},
   "outputs": [
    {
     "data": {
      "text/html": [
       "<table class=\"simpletable\">\n",
       "<caption>ARIMA Model Results</caption>\n",
       "<tr>\n",
       "  <th>Dep. Variable:</th>   <td>D.Comp Stock</td>   <th>  No. Observations:  </th>    <td>1983</td>   \n",
       "</tr>\n",
       "<tr>\n",
       "  <th>Model:</th>          <td>ARIMA(1, 1, 1)</td>  <th>  Log Likelihood     </th>  <td>5373.983</td> \n",
       "</tr>\n",
       "<tr>\n",
       "  <th>Method:</th>             <td>css-mle</td>     <th>  S.D. of innovations</th>    <td>0.016</td>  \n",
       "</tr>\n",
       "<tr>\n",
       "  <th>Date:</th>          <td>Sun, 01 Nov 2020</td> <th>  AIC                </th> <td>-10739.966</td>\n",
       "</tr>\n",
       "<tr>\n",
       "  <th>Time:</th>              <td>23:36:22</td>     <th>  BIC                </th> <td>-10717.597</td>\n",
       "</tr>\n",
       "<tr>\n",
       "  <th>Sample:</th>                <td>1</td>        <th>  HQIC               </th> <td>-10731.749</td>\n",
       "</tr>\n",
       "<tr>\n",
       "  <th></th>                       <td> </td>        <th>                     </th>      <td> </td>    \n",
       "</tr>\n",
       "</table>\n",
       "<table class=\"simpletable\">\n",
       "<tr>\n",
       "           <td></td>             <th>coef</th>     <th>std err</th>      <th>z</th>      <th>P>|z|</th>  <th>[0.025</th>    <th>0.975]</th>  \n",
       "</tr>\n",
       "<tr>\n",
       "  <th>const</th>              <td>-9.078e-08</td> <td>  6.5e-06</td> <td>   -0.014</td> <td> 0.989</td> <td>-1.28e-05</td> <td> 1.26e-05</td>\n",
       "</tr>\n",
       "<tr>\n",
       "  <th>ar.L1.D.Comp Stock</th> <td>    0.0284</td> <td>    0.023</td> <td>    1.217</td> <td> 0.224</td> <td>   -0.017</td> <td>    0.074</td>\n",
       "</tr>\n",
       "<tr>\n",
       "  <th>ma.L1.D.Comp Stock</th> <td>   -0.9831</td> <td>    0.013</td> <td>  -73.361</td> <td> 0.000</td> <td>   -1.009</td> <td>   -0.957</td>\n",
       "</tr>\n",
       "</table>\n",
       "<table class=\"simpletable\">\n",
       "<caption>Roots</caption>\n",
       "<tr>\n",
       "    <td></td>   <th>            Real</th>  <th>         Imaginary</th> <th>         Modulus</th>  <th>        Frequency</th>\n",
       "</tr>\n",
       "<tr>\n",
       "  <th>AR.1</th> <td>          35.2592</td> <td>          +0.0000j</td> <td>          35.2592</td> <td>           0.0000</td>\n",
       "</tr>\n",
       "<tr>\n",
       "  <th>MA.1</th> <td>           1.0172</td> <td>          +0.0000j</td> <td>           1.0172</td> <td>           0.0000</td>\n",
       "</tr>\n",
       "</table>"
      ],
      "text/plain": [
       "<class 'statsmodels.iolib.summary.Summary'>\n",
       "\"\"\"\n",
       "                             ARIMA Model Results                              \n",
       "==============================================================================\n",
       "Dep. Variable:           D.Comp Stock   No. Observations:                 1983\n",
       "Model:                 ARIMA(1, 1, 1)   Log Likelihood                5373.983\n",
       "Method:                       css-mle   S.D. of innovations              0.016\n",
       "Date:                Sun, 01 Nov 2020   AIC                         -10739.966\n",
       "Time:                        23:36:22   BIC                         -10717.597\n",
       "Sample:                             1   HQIC                        -10731.749\n",
       "                                                                              \n",
       "======================================================================================\n",
       "                         coef    std err          z      P>|z|      [0.025      0.975]\n",
       "--------------------------------------------------------------------------------------\n",
       "const              -9.078e-08    6.5e-06     -0.014      0.989   -1.28e-05    1.26e-05\n",
       "ar.L1.D.Comp Stock     0.0284      0.023      1.217      0.224      -0.017       0.074\n",
       "ma.L1.D.Comp Stock    -0.9831      0.013    -73.361      0.000      -1.009      -0.957\n",
       "                                    Roots                                    \n",
       "=============================================================================\n",
       "                  Real          Imaginary           Modulus         Frequency\n",
       "-----------------------------------------------------------------------------\n",
       "AR.1           35.2592           +0.0000j           35.2592            0.0000\n",
       "MA.1            1.0172           +0.0000j            1.0172            0.0000\n",
       "-----------------------------------------------------------------------------\n",
       "\"\"\""
      ]
     },
     "execution_count": 24,
     "metadata": {},
     "output_type": "execute_result"
    }
   ],
   "source": [
    "model_fit.summary()"
   ]
  },
  {
   "cell_type": "code",
   "execution_count": 25,
   "metadata": {},
   "outputs": [
    {
     "data": {
      "text/plain": [
       "<AxesSubplot:xlabel='Date'>"
      ]
     },
     "execution_count": 25,
     "metadata": {},
     "output_type": "execute_result"
    },
    {
     "data": {
      "image/png": "[encoded data removed]",
      "text/plain": [
       "<Figure size 864x576 with 1 Axes>"
      ]
     },
     "metadata": {
      "needs_background": "light"
     },
     "output_type": "display_data"
    }
   ],
   "source": [
    "time_data1['forecast']=model_fit.predict(start=90,end=103,dynamic=True)\n",
    "time_data1[['Comp Stock','forecast']].plot(figsize=(12,8))"
   ]
  },
  {
   "cell_type": "code",
   "execution_count": 26,
   "metadata": {},
   "outputs": [],
   "source": [
    "import statsmodels.api as sm  # SARIMAX - seasonal arimax"
   ]
  },
  {
   "cell_type": "code",
   "execution_count": 27,
   "metadata": {},
   "outputs": [],
   "source": [
    "model=sm.tsa.statespace.SARIMAX(time_data1['Comp Stock'],order=(1, 1, 1),seasonal_order=(1,1,1,12)) #(p,d,q,Shift)\n",
    "results=model.fit()"
   ]
  },
  {
   "cell_type": "code",
   "execution_count": 28,
   "metadata": {},
   "outputs": [
    {
     "data": {
      "text/plain": [
       "<AxesSubplot:xlabel='Date'>"
      ]
     },
     "execution_count": 28,
     "metadata": {},
     "output_type": "execute_result"
    },
    {
     "data": {
      "image/png": "[encoded data removed]",
      "text/plain": [
       "<Figure size 864x576 with 1 Axes>"
      ]
     },
     "metadata": {
      "needs_background": "light"
     },
     "output_type": "display_data"
    }
   ],
   "source": [
    "time_data1['forecast']=results.predict(start=90,end=103,dynamic=True)\n",
    "time_data1[['Comp Stock','forecast']].plot(figsize=(12,8))"
   ]
  },
  {
   "cell_type": "code",
   "execution_count": 29,
   "metadata": {},
   "outputs": [],
   "source": [
    "time_data1_df = time_data1.copy()"
   ]
  },
  {
   "cell_type": "code",
   "execution_count": 30,
   "metadata": {},
   "outputs": [],
   "source": [
    "time_data1_df.reset_index(inplace=True)"
   ]
  },
  {
   "cell_type": "code",
   "execution_count": 31,
   "metadata": {},
   "outputs": [
    {
     "data": {
      "text/plain": [
       "Date                         datetime64[ns]\n",
       "Comp Stock                          float64\n",
       "Sales First Difference              float64\n",
       "Seasonal First Difference           float64\n",
       "forecast                            float64\n",
       "dtype: object"
      ]
     },
     "execution_count": 31,
     "metadata": {},
     "output_type": "execute_result"
    }
   ],
   "source": [
    "time_data1_df.dtypes"
   ]
  },
  {
   "cell_type": "markdown",
   "metadata": {},
   "source": [
    "# create data for forecast"
   ]
  },
  {
   "cell_type": "code",
   "execution_count": 32,
   "metadata": {},
   "outputs": [
    {
     "data": {
      "text/html": [
       "<div>\n",
       "<style scoped>\n",
       "    .dataframe tbody tr th:only-of-type {\n",
       "        vertical-align: middle;\n",
       "    }\n",
       "\n",
       "    .dataframe tbody tr th {\n",
       "        vertical-align: top;\n",
       "    }\n",
       "\n",
       "    .dataframe thead th {\n",
       "        text-align: right;\n",
       "    }\n",
       "</style>\n",
       "<table border=\"1\" class=\"dataframe\">\n",
       "  <thead>\n",
       "    <tr style=\"text-align: right;\">\n",
       "      <th></th>\n",
       "      <th>Date</th>\n",
       "      <th>Comp Stock</th>\n",
       "      <th>Sales First Difference</th>\n",
       "      <th>Seasonal First Difference</th>\n",
       "      <th>forecast</th>\n",
       "    </tr>\n",
       "  </thead>\n",
       "  <tbody>\n",
       "    <tr>\n",
       "      <th>0</th>\n",
       "      <td>2009-12-31</td>\n",
       "      <td>0.017354</td>\n",
       "      <td>NaN</td>\n",
       "      <td>NaN</td>\n",
       "      <td>NaN</td>\n",
       "    </tr>\n",
       "    <tr>\n",
       "      <th>1</th>\n",
       "      <td>2010-01-04</td>\n",
       "      <td>0.015565</td>\n",
       "      <td>-0.001789</td>\n",
       "      <td>NaN</td>\n",
       "      <td>NaN</td>\n",
       "    </tr>\n",
       "    <tr>\n",
       "      <th>2</th>\n",
       "      <td>2010-01-05</td>\n",
       "      <td>0.001729</td>\n",
       "      <td>-0.013836</td>\n",
       "      <td>NaN</td>\n",
       "      <td>NaN</td>\n",
       "    </tr>\n",
       "    <tr>\n",
       "      <th>3</th>\n",
       "      <td>2010-01-06</td>\n",
       "      <td>-0.015906</td>\n",
       "      <td>-0.017635</td>\n",
       "      <td>NaN</td>\n",
       "      <td>NaN</td>\n",
       "    </tr>\n",
       "    <tr>\n",
       "      <th>4</th>\n",
       "      <td>2010-01-07</td>\n",
       "      <td>-0.001849</td>\n",
       "      <td>0.014058</td>\n",
       "      <td>NaN</td>\n",
       "      <td>NaN</td>\n",
       "    </tr>\n",
       "    <tr>\n",
       "      <th>...</th>\n",
       "      <td>...</td>\n",
       "      <td>...</td>\n",
       "      <td>...</td>\n",
       "      <td>...</td>\n",
       "      <td>...</td>\n",
       "    </tr>\n",
       "    <tr>\n",
       "      <th>1503</th>\n",
       "      <td>2021-12-27</td>\n",
       "      <td>NaN</td>\n",
       "      <td>NaN</td>\n",
       "      <td>NaN</td>\n",
       "      <td>NaN</td>\n",
       "    </tr>\n",
       "    <tr>\n",
       "      <th>1504</th>\n",
       "      <td>2021-12-28</td>\n",
       "      <td>NaN</td>\n",
       "      <td>NaN</td>\n",
       "      <td>NaN</td>\n",
       "      <td>NaN</td>\n",
       "    </tr>\n",
       "    <tr>\n",
       "      <th>1505</th>\n",
       "      <td>2021-12-29</td>\n",
       "      <td>NaN</td>\n",
       "      <td>NaN</td>\n",
       "      <td>NaN</td>\n",
       "      <td>NaN</td>\n",
       "    </tr>\n",
       "    <tr>\n",
       "      <th>1506</th>\n",
       "      <td>2021-12-30</td>\n",
       "      <td>NaN</td>\n",
       "      <td>NaN</td>\n",
       "      <td>NaN</td>\n",
       "      <td>NaN</td>\n",
       "    </tr>\n",
       "    <tr>\n",
       "      <th>1507</th>\n",
       "      <td>2021-12-31</td>\n",
       "      <td>NaN</td>\n",
       "      <td>NaN</td>\n",
       "      <td>NaN</td>\n",
       "      <td>NaN</td>\n",
       "    </tr>\n",
       "  </tbody>\n",
       "</table>\n",
       "<p>3492 rows × 5 columns</p>\n",
       "</div>"
      ],
      "text/plain": [
       "           Date  Comp Stock  Sales First Difference  \\\n",
       "0    2009-12-31    0.017354                     NaN   \n",
       "1    2010-01-04    0.015565               -0.001789   \n",
       "2    2010-01-05    0.001729               -0.013836   \n",
       "3    2010-01-06   -0.015906               -0.017635   \n",
       "4    2010-01-07   -0.001849                0.014058   \n",
       "...         ...         ...                     ...   \n",
       "1503 2021-12-27         NaN                     NaN   \n",
       "1504 2021-12-28         NaN                     NaN   \n",
       "1505 2021-12-29         NaN                     NaN   \n",
       "1506 2021-12-30         NaN                     NaN   \n",
       "1507 2021-12-31         NaN                     NaN   \n",
       "\n",
       "      Seasonal First Difference  forecast  \n",
       "0                           NaN       NaN  \n",
       "1                           NaN       NaN  \n",
       "2                           NaN       NaN  \n",
       "3                           NaN       NaN  \n",
       "4                           NaN       NaN  \n",
       "...                         ...       ...  \n",
       "1503                        NaN       NaN  \n",
       "1504                        NaN       NaN  \n",
       "1505                        NaN       NaN  \n",
       "1506                        NaN       NaN  \n",
       "1507                        NaN       NaN  \n",
       "\n",
       "[3492 rows x 5 columns]"
      ]
     },
     "execution_count": 32,
     "metadata": {},
     "output_type": "execute_result"
    }
   ],
   "source": [
    "#creating some data to predict future of this.\n",
    "from datetime import timedelta\n",
    "from pandas.tseries.offsets import DateOffset\n",
    "\n",
    "#future_dates=[data.index[-1]+ DateOffset(months=x)for x in range(0,24)]\n",
    "\n",
    "time_data1_df = time_data1_df.append(pd.DataFrame({'Date': pd.date_range(start=time_data1_df.Date.iloc[-1],end='2021-12-31')}))\n",
    "\n",
    "time_data1_df"
   ]
  },
  {
   "cell_type": "code",
   "execution_count": 33,
   "metadata": {},
   "outputs": [],
   "source": [
    "time_data1_df.set_index('Date',inplace=True)"
   ]
  },
  {
   "cell_type": "code",
   "execution_count": 34,
   "metadata": {},
   "outputs": [
    {
     "data": {
      "text/html": [
       "<div>\n",
       "<style scoped>\n",
       "    .dataframe tbody tr th:only-of-type {\n",
       "        vertical-align: middle;\n",
       "    }\n",
       "\n",
       "    .dataframe tbody tr th {\n",
       "        vertical-align: top;\n",
       "    }\n",
       "\n",
       "    .dataframe thead th {\n",
       "        text-align: right;\n",
       "    }\n",
       "</style>\n",
       "<table border=\"1\" class=\"dataframe\">\n",
       "  <thead>\n",
       "    <tr style=\"text-align: right;\">\n",
       "      <th></th>\n",
       "      <th>Comp Stock</th>\n",
       "      <th>Sales First Difference</th>\n",
       "      <th>Seasonal First Difference</th>\n",
       "      <th>forecast</th>\n",
       "    </tr>\n",
       "    <tr>\n",
       "      <th>Date</th>\n",
       "      <th></th>\n",
       "      <th></th>\n",
       "      <th></th>\n",
       "      <th></th>\n",
       "    </tr>\n",
       "  </thead>\n",
       "  <tbody>\n",
       "    <tr>\n",
       "      <th>2021-12-22</th>\n",
       "      <td>NaN</td>\n",
       "      <td>NaN</td>\n",
       "      <td>NaN</td>\n",
       "      <td>NaN</td>\n",
       "    </tr>\n",
       "    <tr>\n",
       "      <th>2021-12-23</th>\n",
       "      <td>NaN</td>\n",
       "      <td>NaN</td>\n",
       "      <td>NaN</td>\n",
       "      <td>NaN</td>\n",
       "    </tr>\n",
       "    <tr>\n",
       "      <th>2021-12-24</th>\n",
       "      <td>NaN</td>\n",
       "      <td>NaN</td>\n",
       "      <td>NaN</td>\n",
       "      <td>NaN</td>\n",
       "    </tr>\n",
       "    <tr>\n",
       "      <th>2021-12-25</th>\n",
       "      <td>NaN</td>\n",
       "      <td>NaN</td>\n",
       "      <td>NaN</td>\n",
       "      <td>NaN</td>\n",
       "    </tr>\n",
       "    <tr>\n",
       "      <th>2021-12-26</th>\n",
       "      <td>NaN</td>\n",
       "      <td>NaN</td>\n",
       "      <td>NaN</td>\n",
       "      <td>NaN</td>\n",
       "    </tr>\n",
       "    <tr>\n",
       "      <th>2021-12-27</th>\n",
       "      <td>NaN</td>\n",
       "      <td>NaN</td>\n",
       "      <td>NaN</td>\n",
       "      <td>NaN</td>\n",
       "    </tr>\n",
       "    <tr>\n",
       "      <th>2021-12-28</th>\n",
       "      <td>NaN</td>\n",
       "      <td>NaN</td>\n",
       "      <td>NaN</td>\n",
       "      <td>NaN</td>\n",
       "    </tr>\n",
       "    <tr>\n",
       "      <th>2021-12-29</th>\n",
       "      <td>NaN</td>\n",
       "      <td>NaN</td>\n",
       "      <td>NaN</td>\n",
       "      <td>NaN</td>\n",
       "    </tr>\n",
       "    <tr>\n",
       "      <th>2021-12-30</th>\n",
       "      <td>NaN</td>\n",
       "      <td>NaN</td>\n",
       "      <td>NaN</td>\n",
       "      <td>NaN</td>\n",
       "    </tr>\n",
       "    <tr>\n",
       "      <th>2021-12-31</th>\n",
       "      <td>NaN</td>\n",
       "      <td>NaN</td>\n",
       "      <td>NaN</td>\n",
       "      <td>NaN</td>\n",
       "    </tr>\n",
       "  </tbody>\n",
       "</table>\n",
       "</div>"
      ],
      "text/plain": [
       "            Comp Stock  Sales First Difference  Seasonal First Difference  \\\n",
       "Date                                                                        \n",
       "2021-12-22         NaN                     NaN                        NaN   \n",
       "2021-12-23         NaN                     NaN                        NaN   \n",
       "2021-12-24         NaN                     NaN                        NaN   \n",
       "2021-12-25         NaN                     NaN                        NaN   \n",
       "2021-12-26         NaN                     NaN                        NaN   \n",
       "2021-12-27         NaN                     NaN                        NaN   \n",
       "2021-12-28         NaN                     NaN                        NaN   \n",
       "2021-12-29         NaN                     NaN                        NaN   \n",
       "2021-12-30         NaN                     NaN                        NaN   \n",
       "2021-12-31         NaN                     NaN                        NaN   \n",
       "\n",
       "            forecast  \n",
       "Date                  \n",
       "2021-12-22       NaN  \n",
       "2021-12-23       NaN  \n",
       "2021-12-24       NaN  \n",
       "2021-12-25       NaN  \n",
       "2021-12-26       NaN  \n",
       "2021-12-27       NaN  \n",
       "2021-12-28       NaN  \n",
       "2021-12-29       NaN  \n",
       "2021-12-30       NaN  \n",
       "2021-12-31       NaN  "
      ]
     },
     "execution_count": 34,
     "metadata": {},
     "output_type": "execute_result"
    }
   ],
   "source": [
    "time_data1_df.tail(10)"
   ]
  },
  {
   "cell_type": "code",
   "execution_count": 35,
   "metadata": {},
   "outputs": [
    {
     "data": {
      "text/plain": [
       "<AxesSubplot:xlabel='Date'>"
      ]
     },
     "execution_count": 35,
     "metadata": {},
     "output_type": "execute_result"
    },
    {
     "data": {
      "image/png": "[encoded data removed]",
      "text/plain": [
       "<Figure size 864x576 with 1 Axes>"
      ]
     },
     "metadata": {
      "needs_background": "light"
     },
     "output_type": "display_data"
    }
   ],
   "source": [
    "time_data1_df['forecast'] = results.predict(start = 1500, end =3491 , dynamic= True)  \n",
    "time_data1_df[['Comp Stock', 'forecast']].plot(figsize=(12, 8))"
   ]
  },
  {
   "cell_type": "code",
   "execution_count": 36,
   "metadata": {},
   "outputs": [
    {
     "data": {
      "text/plain": [
       "DatetimeIndex(['2017-11-15', '2017-11-16', '2017-11-17', '2017-11-18',\n",
       "               '2017-11-19', '2017-11-20', '2017-11-21', '2017-11-22',\n",
       "               '2017-11-23', '2017-11-24',\n",
       "               ...\n",
       "               '2021-12-22', '2021-12-23', '2021-12-24', '2021-12-25',\n",
       "               '2021-12-26', '2021-12-27', '2021-12-28', '2021-12-29',\n",
       "               '2021-12-30', '2021-12-31'],\n",
       "              dtype='datetime64[ns]', length=1508, freq='D')"
      ]
     },
     "execution_count": 36,
     "metadata": {},
     "output_type": "execute_result"
    }
   ],
   "source": [
    "pd.date_range(start='2017-11-15', end='2021-12-31')"
   ]
  },
  {
   "cell_type": "code",
   "execution_count": null,
   "metadata": {},
   "outputs": [],
   "source": []
  }
 ],
 "metadata": {
  "kernelspec": {
   "display_name": "Python 3",
   "language": "python",
   "name": "python3"
  },
  "language_info": {
   "codemirror_mode": {
    "name": "ipython",
    "version": 3
   },
   "file_extension": ".py",
   "mimetype": "text/x-python",
   "name": "python",
   "nbconvert_exporter": "python",
   "pygments_lexer": "ipython3",
   "version": "3.7.4"
  }
 },
 "nbformat": 4,
 "nbformat_minor": 2
}
