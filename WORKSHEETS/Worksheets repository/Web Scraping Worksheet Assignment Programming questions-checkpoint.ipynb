{
 "cells": [
  {
   "cell_type": "markdown",
   "metadata": {},
   "source": [
    "# 14.) Write a python program to check whether a webpage contains a title or not ?"
   ]
  },
  {
   "cell_type": "code",
   "execution_count": 1,
   "metadata": {},
   "outputs": [
    {
     "name": "stdout",
     "output_type": "stream",
     "text": [
      "None\n"
     ]
    }
   ],
   "source": [
    "import selenium \n",
    "\n",
    "from selenium import webdriver\n",
    "\n",
    "DRIVER_PATH='D:\\software\\chromedriver_win32 (1)\\chromedriver.exe'\n",
    "\n",
    "driver = webdriver.Chrome(executable_path= DRIVER_PATH)  \n",
    "\n",
    "get_title = driver.get(\"https://www.cognizant.com/\") \n",
    "\n",
    "# Printing the title of this URL  \n",
    "\n",
    "if get_title =={}: \n",
    "\n",
    "    print(\"No Title\") \n",
    "\n",
    "else: \n",
    "\n",
    "    print(get_title)  "
   ]
  },
  {
   "cell_type": "markdown",
   "metadata": {},
   "source": [
    "# 15.)Write a python program to access the search bar and search button on images.google.com?"
   ]
  },
  {
   "cell_type": "code",
   "execution_count": 3,
   "metadata": {},
   "outputs": [],
   "source": [
    "import selenium \n",
    "\n",
    "from selenium import webdriver\n",
    "\n",
    "import os\n",
    "DRIVER_PATH='D:\\software\\chromedriver_win32 (1)\\chromedriver.exe'\n",
    "\n",
    "driver = webdriver.Chrome(executable_path= DRIVER_PATH)  \n",
    "\n",
    "get_title = driver.get(\"https://www.google.co.in/imghp?hl=en&tab=wi&authuser=0&ogbl\") \n",
    "def make_directory(dirname):\n",
    "    current_path= os.getcwd()\n",
    "    path= os.path.join(current_path, dirname)\n",
    "    if not os.path.exists(path):\n",
    "        os.makedirs(path)\n",
    "make_directory(\"search\")\n",
    "\n",
    "search = driver.find_elements_by_xpath(\"//input[@class='_gLFyf gsfi']\")\n",
    "\n",
    "search = []\n",
    "for search in search:\n",
    "    source= search.get_attribute('src')\n",
    "    urls.append(source)\n",
    "    print(source)"
   ]
  },
  {
   "cell_type": "code",
   "execution_count": null,
   "metadata": {},
   "outputs": [],
   "source": []
  },
  {
   "cell_type": "code",
   "execution_count": null,
   "metadata": {},
   "outputs": [],
   "source": []
  },
  {
   "cell_type": "code",
   "execution_count": null,
   "metadata": {},
   "outputs": [],
   "source": []
  },
  {
   "cell_type": "code",
   "execution_count": null,
   "metadata": {},
   "outputs": [],
   "source": []
  },
  {
   "cell_type": "code",
   "execution_count": null,
   "metadata": {},
   "outputs": [],
   "source": []
  }
 ],
 "metadata": {
  "kernelspec": {
   "display_name": "Python 3",
   "language": "python",
   "name": "python3"
  },
  "language_info": {
   "codemirror_mode": {
    "name": "ipython",
    "version": 3
   },
   "file_extension": ".py",
   "mimetype": "text/x-python",
   "name": "python",
   "nbconvert_exporter": "python",
   "pygments_lexer": "ipython3",
   "version": "3.7.4"
  }
 },
 "nbformat": 4,
 "nbformat_minor": 2
}
